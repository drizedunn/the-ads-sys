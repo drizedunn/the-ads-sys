{
  "cells": [
    {
      "cell_type": "markdown",
      "metadata": {
        "id": "a_7dSyN8P3qq"
      },
      "source": [
        "#Building an advertisement system with machine learning.\n",
        "In this project, we will build a machine learning model that provides personalized ads to customers simply by predicting the brand of product they are most likely to buy depending on their recent activities in the ecommerce store and their demographics.\n",
        "Knowing that all machine learning algorithm works on numerical values, a particular numeric value will be assigned to each product brand and the model (machine learning algorithms + training data) will predict those numbers after undergoing training. This prediction will enable the system to display only the products from the predicted brand.\n",
        "\n"
      ]
    },
    {
      "cell_type": "code",
      "execution_count": null,
      "metadata": {
        "id": "XwSG6VRoMPJH"
      },
      "outputs": [],
      "source": [
        "# Importing the needed libraries\n",
        "# !pip install shap\n",
        "# !pip install colorama\n",
        "import numpy as np\n",
        "import pandas as pd\n",
        "import seaborn as sns\n",
        "import matplotlib.pyplot as plt\n",
        "import matplotlib.dates as dates\n",
        "from datetime import datetime\n",
        "import plotly.express as px\n",
        "import plotly.offline as po\n",
        "import cufflinks as cl\n",
        "plt.style.use('seaborn')\n",
        "from colorama import Style, Fore, Back\n",
        "from sklearn.model_selection import RandomizedSearchCV, GridSearchCV\n",
        "from joblib import dump\n",
        "import shap\n",
        "from sklearn.metrics import accuracy_score, plot_confusion_matrix, precision_score, recall_score, f1_score\n",
        "from sklearn.ensemble import RandomForestClassifier\n",
        "from sklearn.linear_model import LogisticRegression\n",
        "from sklearn.tree import DecisionTreeClassifier\n",
        "from sklearn.naive_bayes import GaussianNB\n",
        "from sklearn.model_selection import train_test_split, KFold, cross_val_score\n",
        "%matplotlib inline\n",
        "import warnings\n",
        "warnings.filterwarnings('ignore')"
      ]
    },
    {
      "cell_type": "markdown",
      "metadata": {
        "id": "WgjUmmS0ekId"
      },
      "source": [
        "##Data Collection\n",
        "The two dataset used was collected from [kaggle](https://www.kaggle.com/datasets). It is a collection of different users demographics and behaviour in an eCommerce store."
      ]
    },
    {
      "cell_type": "code",
      "execution_count": null,
      "metadata": {
        "id": "qmft_YuLeju2"
      },
      "outputs": [],
      "source": [
        "#Loading the data\n",
        "data = pd.read_csv(\"/content/drive/MyDrive/Datasets/ecommerce.csv\")"
      ]
    },
    {
      "cell_type": "code",
      "execution_count": null,
      "metadata": {
        "colab": {
          "base_uri": "https://localhost:8080/"
        },
        "id": "rN8JYZeDeZak",
        "outputId": "1cc0997c-3233-4e99-8b35-65138e9a2649"
      },
      "outputs": [
        {
          "data": {
            "text/plain": [
              "(47482, 19)"
            ]
          },
          "execution_count": 3,
          "metadata": {},
          "output_type": "execute_result"
        }
      ],
      "source": [
        "#Checking the number of rows and columns of the dataset\n",
        "data.shape "
      ]
    },
    {
      "cell_type": "markdown",
      "metadata": {
        "id": "mO2Q1bJPifHD"
      },
      "source": [
        "The dataset has 19 different features(columns) and 47482 observations(rows)"
      ]
    },
    {
      "cell_type": "code",
      "execution_count": null,
      "metadata": {
        "colab": {
          "base_uri": "https://localhost:8080/",
          "height": 531
        },
        "id": "nZkFZe9egJgL",
        "outputId": "effb472d-d0ec-47b6-d822-56862f9a9bc0"
      },
      "outputs": [
        {
          "data": {
            "text/html": [
              "\n",
              "  <div id=\"df-8c456462-eb67-45a6-a396-383948e2be2a\">\n",
              "    <div class=\"colab-df-container\">\n",
              "      <div>\n",
              "<style scoped>\n",
              "    .dataframe tbody tr th:only-of-type {\n",
              "        vertical-align: middle;\n",
              "    }\n",
              "\n",
              "    .dataframe tbody tr th {\n",
              "        vertical-align: top;\n",
              "    }\n",
              "\n",
              "    .dataframe thead th {\n",
              "        text-align: right;\n",
              "    }\n",
              "</style>\n",
              "<table border=\"1\" class=\"dataframe\">\n",
              "  <thead>\n",
              "    <tr style=\"text-align: right;\">\n",
              "      <th></th>\n",
              "      <th>event_time</th>\n",
              "      <th>event_type</th>\n",
              "      <th>product_id</th>\n",
              "      <th>category_id</th>\n",
              "      <th>category_code</th>\n",
              "      <th>brand</th>\n",
              "      <th>price</th>\n",
              "      <th>user_id</th>\n",
              "      <th>user_session</th>\n",
              "      <th>category</th>\n",
              "      <th>subcategory</th>\n",
              "      <th>is_purchased</th>\n",
              "      <th>event_weekday</th>\n",
              "      <th>activity_count</th>\n",
              "      <th>income</th>\n",
              "      <th>age</th>\n",
              "      <th>marriage_status</th>\n",
              "      <th>profession</th>\n",
              "      <th>country</th>\n",
              "    </tr>\n",
              "  </thead>\n",
              "  <tbody>\n",
              "    <tr>\n",
              "      <th>0</th>\n",
              "      <td>2019-10-01 03:36:06 UTC</td>\n",
              "      <td>purchase</td>\n",
              "      <td>3900860</td>\n",
              "      <td>2053013552326770905</td>\n",
              "      <td>appliances.environment.water_heater</td>\n",
              "      <td>ariston</td>\n",
              "      <td>84.69</td>\n",
              "      <td>514732891</td>\n",
              "      <td>07e3eec5-10d5-481f-afd3-15f749071155</td>\n",
              "      <td>appliances|environment</td>\n",
              "      <td>water_heater</td>\n",
              "      <td>1.0</td>\n",
              "      <td>1</td>\n",
              "      <td>21.0</td>\n",
              "      <td>312.415297</td>\n",
              "      <td>23</td>\n",
              "      <td>single</td>\n",
              "      <td>Physician</td>\n",
              "      <td>South Korea</td>\n",
              "    </tr>\n",
              "    <tr>\n",
              "      <th>1</th>\n",
              "      <td>2019-10-01 04:07:44 UTC</td>\n",
              "      <td>purchase</td>\n",
              "      <td>3900815</td>\n",
              "      <td>2053013552326770905</td>\n",
              "      <td>appliances.environment.water_heater</td>\n",
              "      <td>ariston</td>\n",
              "      <td>133.82</td>\n",
              "      <td>515798665</td>\n",
              "      <td>5f184310-6754-48ce-a21b-df21aa81457e</td>\n",
              "      <td>appliances|environment</td>\n",
              "      <td>water_heater</td>\n",
              "      <td>1.0</td>\n",
              "      <td>1</td>\n",
              "      <td>4.0</td>\n",
              "      <td>1814.950879</td>\n",
              "      <td>40</td>\n",
              "      <td>single</td>\n",
              "      <td>Physician</td>\n",
              "      <td>USA</td>\n",
              "    </tr>\n",
              "    <tr>\n",
              "      <th>2</th>\n",
              "      <td>2019-10-01 04:43:16 UTC</td>\n",
              "      <td>purchase</td>\n",
              "      <td>3900702</td>\n",
              "      <td>2053013552326770905</td>\n",
              "      <td>appliances.environment.water_heater</td>\n",
              "      <td>thermex</td>\n",
              "      <td>115.75</td>\n",
              "      <td>518045212</td>\n",
              "      <td>fd66a737-84d6-4ca4-a2b5-85752270315f</td>\n",
              "      <td>appliances|environment</td>\n",
              "      <td>water_heater</td>\n",
              "      <td>1.0</td>\n",
              "      <td>1</td>\n",
              "      <td>3.0</td>\n",
              "      <td>956.489912</td>\n",
              "      <td>66</td>\n",
              "      <td>married</td>\n",
              "      <td>Physician</td>\n",
              "      <td>India</td>\n",
              "    </tr>\n",
              "    <tr>\n",
              "      <th>3</th>\n",
              "      <td>2019-10-01 05:07:47 UTC</td>\n",
              "      <td>purchase</td>\n",
              "      <td>3900002</td>\n",
              "      <td>2053013552326770905</td>\n",
              "      <td>appliances.environment.water_heater</td>\n",
              "      <td>ariston</td>\n",
              "      <td>103.18</td>\n",
              "      <td>514008577</td>\n",
              "      <td>3d57b23e-c071-4f84-a179-29b825d21aed</td>\n",
              "      <td>appliances|environment</td>\n",
              "      <td>water_heater</td>\n",
              "      <td>1.0</td>\n",
              "      <td>1</td>\n",
              "      <td>16.0</td>\n",
              "      <td>1499.125653</td>\n",
              "      <td>41</td>\n",
              "      <td>single</td>\n",
              "      <td>Physician</td>\n",
              "      <td>Mexico</td>\n",
              "    </tr>\n",
              "    <tr>\n",
              "      <th>4</th>\n",
              "      <td>2019-10-01 05:14:48 UTC</td>\n",
              "      <td>purchase</td>\n",
              "      <td>3900647</td>\n",
              "      <td>2053013552326770905</td>\n",
              "      <td>appliances.environment.water_heater</td>\n",
              "      <td>ariston</td>\n",
              "      <td>105.68</td>\n",
              "      <td>513400739</td>\n",
              "      <td>49fe2d8a-7b85-4f1f-ad0c-91757e8a259f</td>\n",
              "      <td>appliances|environment</td>\n",
              "      <td>water_heater</td>\n",
              "      <td>1.0</td>\n",
              "      <td>1</td>\n",
              "      <td>10.0</td>\n",
              "      <td>1382.295251</td>\n",
              "      <td>47</td>\n",
              "      <td>single</td>\n",
              "      <td>Physician</td>\n",
              "      <td>France</td>\n",
              "    </tr>\n",
              "  </tbody>\n",
              "</table>\n",
              "</div>\n",
              "      <button class=\"colab-df-convert\" onclick=\"convertToInteractive('df-8c456462-eb67-45a6-a396-383948e2be2a')\"\n",
              "              title=\"Convert this dataframe to an interactive table.\"\n",
              "              style=\"display:none;\">\n",
              "        \n",
              "  <svg xmlns=\"http://www.w3.org/2000/svg\" height=\"24px\"viewBox=\"0 0 24 24\"\n",
              "       width=\"24px\">\n",
              "    <path d=\"M0 0h24v24H0V0z\" fill=\"none\"/>\n",
              "    <path d=\"M18.56 5.44l.94 2.06.94-2.06 2.06-.94-2.06-.94-.94-2.06-.94 2.06-2.06.94zm-11 1L8.5 8.5l.94-2.06 2.06-.94-2.06-.94L8.5 2.5l-.94 2.06-2.06.94zm10 10l.94 2.06.94-2.06 2.06-.94-2.06-.94-.94-2.06-.94 2.06-2.06.94z\"/><path d=\"M17.41 7.96l-1.37-1.37c-.4-.4-.92-.59-1.43-.59-.52 0-1.04.2-1.43.59L10.3 9.45l-7.72 7.72c-.78.78-.78 2.05 0 2.83L4 21.41c.39.39.9.59 1.41.59.51 0 1.02-.2 1.41-.59l7.78-7.78 2.81-2.81c.8-.78.8-2.07 0-2.86zM5.41 20L4 18.59l7.72-7.72 1.47 1.35L5.41 20z\"/>\n",
              "  </svg>\n",
              "      </button>\n",
              "      \n",
              "  <style>\n",
              "    .colab-df-container {\n",
              "      display:flex;\n",
              "      flex-wrap:wrap;\n",
              "      gap: 12px;\n",
              "    }\n",
              "\n",
              "    .colab-df-convert {\n",
              "      background-color: #E8F0FE;\n",
              "      border: none;\n",
              "      border-radius: 50%;\n",
              "      cursor: pointer;\n",
              "      display: none;\n",
              "      fill: #1967D2;\n",
              "      height: 32px;\n",
              "      padding: 0 0 0 0;\n",
              "      width: 32px;\n",
              "    }\n",
              "\n",
              "    .colab-df-convert:hover {\n",
              "      background-color: #E2EBFA;\n",
              "      box-shadow: 0px 1px 2px rgba(60, 64, 67, 0.3), 0px 1px 3px 1px rgba(60, 64, 67, 0.15);\n",
              "      fill: #174EA6;\n",
              "    }\n",
              "\n",
              "    [theme=dark] .colab-df-convert {\n",
              "      background-color: #3B4455;\n",
              "      fill: #D2E3FC;\n",
              "    }\n",
              "\n",
              "    [theme=dark] .colab-df-convert:hover {\n",
              "      background-color: #434B5C;\n",
              "      box-shadow: 0px 1px 3px 1px rgba(0, 0, 0, 0.15);\n",
              "      filter: drop-shadow(0px 1px 2px rgba(0, 0, 0, 0.3));\n",
              "      fill: #FFFFFF;\n",
              "    }\n",
              "  </style>\n",
              "\n",
              "      <script>\n",
              "        const buttonEl =\n",
              "          document.querySelector('#df-8c456462-eb67-45a6-a396-383948e2be2a button.colab-df-convert');\n",
              "        buttonEl.style.display =\n",
              "          google.colab.kernel.accessAllowed ? 'block' : 'none';\n",
              "\n",
              "        async function convertToInteractive(key) {\n",
              "          const element = document.querySelector('#df-8c456462-eb67-45a6-a396-383948e2be2a');\n",
              "          const dataTable =\n",
              "            await google.colab.kernel.invokeFunction('convertToInteractive',\n",
              "                                                     [key], {});\n",
              "          if (!dataTable) return;\n",
              "\n",
              "          const docLinkHtml = 'Like what you see? Visit the ' +\n",
              "            '<a target=\"_blank\" href=https://colab.research.google.com/notebooks/data_table.ipynb>data table notebook</a>'\n",
              "            + ' to learn more about interactive tables.';\n",
              "          element.innerHTML = '';\n",
              "          dataTable['output_type'] = 'display_data';\n",
              "          await google.colab.output.renderOutput(dataTable, element);\n",
              "          const docLink = document.createElement('div');\n",
              "          docLink.innerHTML = docLinkHtml;\n",
              "          element.appendChild(docLink);\n",
              "        }\n",
              "      </script>\n",
              "    </div>\n",
              "  </div>\n",
              "  "
            ],
            "text/plain": [
              "                event_time event_type  product_id          category_id  \\\n",
              "0  2019-10-01 03:36:06 UTC   purchase     3900860  2053013552326770905   \n",
              "1  2019-10-01 04:07:44 UTC   purchase     3900815  2053013552326770905   \n",
              "2  2019-10-01 04:43:16 UTC   purchase     3900702  2053013552326770905   \n",
              "3  2019-10-01 05:07:47 UTC   purchase     3900002  2053013552326770905   \n",
              "4  2019-10-01 05:14:48 UTC   purchase     3900647  2053013552326770905   \n",
              "\n",
              "                         category_code    brand   price    user_id  \\\n",
              "0  appliances.environment.water_heater  ariston   84.69  514732891   \n",
              "1  appliances.environment.water_heater  ariston  133.82  515798665   \n",
              "2  appliances.environment.water_heater  thermex  115.75  518045212   \n",
              "3  appliances.environment.water_heater  ariston  103.18  514008577   \n",
              "4  appliances.environment.water_heater  ariston  105.68  513400739   \n",
              "\n",
              "                           user_session                category   subcategory  \\\n",
              "0  07e3eec5-10d5-481f-afd3-15f749071155  appliances|environment  water_heater   \n",
              "1  5f184310-6754-48ce-a21b-df21aa81457e  appliances|environment  water_heater   \n",
              "2  fd66a737-84d6-4ca4-a2b5-85752270315f  appliances|environment  water_heater   \n",
              "3  3d57b23e-c071-4f84-a179-29b825d21aed  appliances|environment  water_heater   \n",
              "4  49fe2d8a-7b85-4f1f-ad0c-91757e8a259f  appliances|environment  water_heater   \n",
              "\n",
              "   is_purchased  event_weekday  activity_count       income  age  \\\n",
              "0           1.0              1            21.0   312.415297   23   \n",
              "1           1.0              1             4.0  1814.950879   40   \n",
              "2           1.0              1             3.0   956.489912   66   \n",
              "3           1.0              1            16.0  1499.125653   41   \n",
              "4           1.0              1            10.0  1382.295251   47   \n",
              "\n",
              "  marriage_status profession      country  \n",
              "0          single  Physician  South Korea  \n",
              "1          single  Physician          USA  \n",
              "2         married  Physician        India  \n",
              "3          single  Physician       Mexico  \n",
              "4          single  Physician       France  "
            ]
          },
          "execution_count": 4,
          "metadata": {},
          "output_type": "execute_result"
        }
      ],
      "source": [
        "#Reading the first five rows of the dataset\n",
        "data.head()"
      ]
    },
    {
      "cell_type": "code",
      "execution_count": null,
      "metadata": {
        "colab": {
          "base_uri": "https://localhost:8080/"
        },
        "id": "vMa8Yjs0gPs0",
        "outputId": "690768c1-7341-4ed9-c556-502e9a79a0bd"
      },
      "outputs": [
        {
          "data": {
            "text/plain": [
              "Index(['event_time', 'event_type', 'product_id', 'category_id',\n",
              "       'category_code', 'brand', 'price', 'user_id', 'user_session',\n",
              "       'category', 'subcategory', 'is_purchased', 'event_weekday',\n",
              "       'activity_count', 'income', 'age', 'marriage_status', 'profession',\n",
              "       'country'],\n",
              "      dtype='object')"
            ]
          },
          "execution_count": 5,
          "metadata": {},
          "output_type": "execute_result"
        }
      ],
      "source": [
        "#Names of columns in the dataset\n",
        "data.columns"
      ]
    },
    {
      "cell_type": "code",
      "execution_count": null,
      "metadata": {
        "colab": {
          "base_uri": "https://localhost:8080/"
        },
        "id": "M5vjF_Dxw3rK",
        "outputId": "b8bd503d-0343-42ad-9954-2fb6d1661d94"
      },
      "outputs": [
        {
          "data": {
            "text/plain": [
              "product_id        1.367324e+12\n",
              "category_id       1.522729e+30\n",
              "price             1.658386e+05\n",
              "user_id           2.922240e+14\n",
              "is_purchased      2.611186e-02\n",
              "event_weekday     2.105991e+00\n",
              "activity_count    1.012801e+02\n",
              "income            4.757087e+05\n",
              "age               2.909568e+02\n",
              "dtype: float64"
            ]
          },
          "execution_count": 6,
          "metadata": {},
          "output_type": "execute_result"
        }
      ],
      "source": [
        "data.var()"
      ]
    },
    {
      "cell_type": "markdown",
      "metadata": {
        "id": "DuaQO61rt8iT"
      },
      "source": [
        "The variance of each columns are within the same range except for the income column that's slightly higher but not too high. The purchase power of an individual largely depend on their."
      ]
    },
    {
      "cell_type": "markdown",
      "metadata": {
        "id": "asZy7jmtz4Rh"
      },
      "source": [
        "## Analyzing The Data"
      ]
    },
    {
      "cell_type": "code",
      "execution_count": null,
      "metadata": {
        "colab": {
          "base_uri": "https://localhost:8080/",
          "height": 364
        },
        "id": "Dup8kmSQUpba",
        "outputId": "e32539cd-ce79-4d36-9eda-ab4f208d1bdc"
      },
      "outputs": [
        {
          "data": {
            "text/html": [
              "\n",
              "  <div id=\"df-256ba4a8-1b20-4913-828b-2073fc36767e\">\n",
              "    <div class=\"colab-df-container\">\n",
              "      <div>\n",
              "<style scoped>\n",
              "    .dataframe tbody tr th:only-of-type {\n",
              "        vertical-align: middle;\n",
              "    }\n",
              "\n",
              "    .dataframe tbody tr th {\n",
              "        vertical-align: top;\n",
              "    }\n",
              "\n",
              "    .dataframe thead th {\n",
              "        text-align: right;\n",
              "    }\n",
              "</style>\n",
              "<table border=\"1\" class=\"dataframe\">\n",
              "  <thead>\n",
              "    <tr style=\"text-align: right;\">\n",
              "      <th></th>\n",
              "      <th>event_time</th>\n",
              "      <th>event_type</th>\n",
              "      <th>product_id</th>\n",
              "      <th>category_id</th>\n",
              "      <th>category_code</th>\n",
              "      <th>brand</th>\n",
              "      <th>price</th>\n",
              "      <th>user_id</th>\n",
              "      <th>user_session</th>\n",
              "      <th>category</th>\n",
              "      <th>subcategory</th>\n",
              "      <th>is_purchased</th>\n",
              "      <th>event_weekday</th>\n",
              "      <th>activity_count</th>\n",
              "      <th>income</th>\n",
              "      <th>age</th>\n",
              "      <th>marriage_status</th>\n",
              "      <th>profession</th>\n",
              "      <th>country</th>\n",
              "    </tr>\n",
              "  </thead>\n",
              "  <tbody>\n",
              "    <tr>\n",
              "      <th>47479</th>\n",
              "      <td>2019-10-04 11:15:41 UTC</td>\n",
              "      <td>view</td>\n",
              "      <td>1002524</td>\n",
              "      <td>2053013555631882655</td>\n",
              "      <td>electronics.smartphone</td>\n",
              "      <td>apple</td>\n",
              "      <td>512.21</td>\n",
              "      <td>514937046</td>\n",
              "      <td>25f19c3e-35c4-491f-81dc-1a43cf4c533d</td>\n",
              "      <td>electronics</td>\n",
              "      <td>smartphone</td>\n",
              "      <td>0.0</td>\n",
              "      <td>4</td>\n",
              "      <td>14.0</td>\n",
              "      <td>2090.202473</td>\n",
              "      <td>54</td>\n",
              "      <td>single</td>\n",
              "      <td>Software_Developer</td>\n",
              "      <td>India</td>\n",
              "    </tr>\n",
              "    <tr>\n",
              "      <th>47480</th>\n",
              "      <td>2019-10-04 11:15:44 UTC</td>\n",
              "      <td>view</td>\n",
              "      <td>1004940</td>\n",
              "      <td>2053013555631882655</td>\n",
              "      <td>electronics.smartphone</td>\n",
              "      <td>vivo</td>\n",
              "      <td>141.55</td>\n",
              "      <td>534797142</td>\n",
              "      <td>e04a2bbe-9701-4119-8629-0e0ebbde8ee9</td>\n",
              "      <td>electronics</td>\n",
              "      <td>smartphone</td>\n",
              "      <td>0.0</td>\n",
              "      <td>4</td>\n",
              "      <td>6.0</td>\n",
              "      <td>2101.059568</td>\n",
              "      <td>67</td>\n",
              "      <td>married</td>\n",
              "      <td>Software_Developer</td>\n",
              "      <td>China</td>\n",
              "    </tr>\n",
              "    <tr>\n",
              "      <th>47481</th>\n",
              "      <td>2019-10-04 11:15:51 UTC</td>\n",
              "      <td>view</td>\n",
              "      <td>1004249</td>\n",
              "      <td>2053013555631882655</td>\n",
              "      <td>electronics.smartphone</td>\n",
              "      <td>apple</td>\n",
              "      <td>730.18</td>\n",
              "      <td>555701338</td>\n",
              "      <td>28c3e70b-ae63-4209-a7a1-4025631928fb</td>\n",
              "      <td>electronics</td>\n",
              "      <td>smartphone</td>\n",
              "      <td>0.0</td>\n",
              "      <td>4</td>\n",
              "      <td>6.0</td>\n",
              "      <td>2144.249772</td>\n",
              "      <td>52</td>\n",
              "      <td>single</td>\n",
              "      <td>Software_Developer</td>\n",
              "      <td>China</td>\n",
              "    </tr>\n",
              "  </tbody>\n",
              "</table>\n",
              "</div>\n",
              "      <button class=\"colab-df-convert\" onclick=\"convertToInteractive('df-256ba4a8-1b20-4913-828b-2073fc36767e')\"\n",
              "              title=\"Convert this dataframe to an interactive table.\"\n",
              "              style=\"display:none;\">\n",
              "        \n",
              "  <svg xmlns=\"http://www.w3.org/2000/svg\" height=\"24px\"viewBox=\"0 0 24 24\"\n",
              "       width=\"24px\">\n",
              "    <path d=\"M0 0h24v24H0V0z\" fill=\"none\"/>\n",
              "    <path d=\"M18.56 5.44l.94 2.06.94-2.06 2.06-.94-2.06-.94-.94-2.06-.94 2.06-2.06.94zm-11 1L8.5 8.5l.94-2.06 2.06-.94-2.06-.94L8.5 2.5l-.94 2.06-2.06.94zm10 10l.94 2.06.94-2.06 2.06-.94-2.06-.94-.94-2.06-.94 2.06-2.06.94z\"/><path d=\"M17.41 7.96l-1.37-1.37c-.4-.4-.92-.59-1.43-.59-.52 0-1.04.2-1.43.59L10.3 9.45l-7.72 7.72c-.78.78-.78 2.05 0 2.83L4 21.41c.39.39.9.59 1.41.59.51 0 1.02-.2 1.41-.59l7.78-7.78 2.81-2.81c.8-.78.8-2.07 0-2.86zM5.41 20L4 18.59l7.72-7.72 1.47 1.35L5.41 20z\"/>\n",
              "  </svg>\n",
              "      </button>\n",
              "      \n",
              "  <style>\n",
              "    .colab-df-container {\n",
              "      display:flex;\n",
              "      flex-wrap:wrap;\n",
              "      gap: 12px;\n",
              "    }\n",
              "\n",
              "    .colab-df-convert {\n",
              "      background-color: #E8F0FE;\n",
              "      border: none;\n",
              "      border-radius: 50%;\n",
              "      cursor: pointer;\n",
              "      display: none;\n",
              "      fill: #1967D2;\n",
              "      height: 32px;\n",
              "      padding: 0 0 0 0;\n",
              "      width: 32px;\n",
              "    }\n",
              "\n",
              "    .colab-df-convert:hover {\n",
              "      background-color: #E2EBFA;\n",
              "      box-shadow: 0px 1px 2px rgba(60, 64, 67, 0.3), 0px 1px 3px 1px rgba(60, 64, 67, 0.15);\n",
              "      fill: #174EA6;\n",
              "    }\n",
              "\n",
              "    [theme=dark] .colab-df-convert {\n",
              "      background-color: #3B4455;\n",
              "      fill: #D2E3FC;\n",
              "    }\n",
              "\n",
              "    [theme=dark] .colab-df-convert:hover {\n",
              "      background-color: #434B5C;\n",
              "      box-shadow: 0px 1px 3px 1px rgba(0, 0, 0, 0.15);\n",
              "      filter: drop-shadow(0px 1px 2px rgba(0, 0, 0, 0.3));\n",
              "      fill: #FFFFFF;\n",
              "    }\n",
              "  </style>\n",
              "\n",
              "      <script>\n",
              "        const buttonEl =\n",
              "          document.querySelector('#df-256ba4a8-1b20-4913-828b-2073fc36767e button.colab-df-convert');\n",
              "        buttonEl.style.display =\n",
              "          google.colab.kernel.accessAllowed ? 'block' : 'none';\n",
              "\n",
              "        async function convertToInteractive(key) {\n",
              "          const element = document.querySelector('#df-256ba4a8-1b20-4913-828b-2073fc36767e');\n",
              "          const dataTable =\n",
              "            await google.colab.kernel.invokeFunction('convertToInteractive',\n",
              "                                                     [key], {});\n",
              "          if (!dataTable) return;\n",
              "\n",
              "          const docLinkHtml = 'Like what you see? Visit the ' +\n",
              "            '<a target=\"_blank\" href=https://colab.research.google.com/notebooks/data_table.ipynb>data table notebook</a>'\n",
              "            + ' to learn more about interactive tables.';\n",
              "          element.innerHTML = '';\n",
              "          dataTable['output_type'] = 'display_data';\n",
              "          await google.colab.output.renderOutput(dataTable, element);\n",
              "          const docLink = document.createElement('div');\n",
              "          docLink.innerHTML = docLinkHtml;\n",
              "          element.appendChild(docLink);\n",
              "        }\n",
              "      </script>\n",
              "    </div>\n",
              "  </div>\n",
              "  "
            ],
            "text/plain": [
              "                    event_time event_type  product_id          category_id  \\\n",
              "47479  2019-10-04 11:15:41 UTC       view     1002524  2053013555631882655   \n",
              "47480  2019-10-04 11:15:44 UTC       view     1004940  2053013555631882655   \n",
              "47481  2019-10-04 11:15:51 UTC       view     1004249  2053013555631882655   \n",
              "\n",
              "                category_code  brand   price    user_id  \\\n",
              "47479  electronics.smartphone  apple  512.21  514937046   \n",
              "47480  electronics.smartphone   vivo  141.55  534797142   \n",
              "47481  electronics.smartphone  apple  730.18  555701338   \n",
              "\n",
              "                               user_session     category subcategory  \\\n",
              "47479  25f19c3e-35c4-491f-81dc-1a43cf4c533d  electronics  smartphone   \n",
              "47480  e04a2bbe-9701-4119-8629-0e0ebbde8ee9  electronics  smartphone   \n",
              "47481  28c3e70b-ae63-4209-a7a1-4025631928fb  electronics  smartphone   \n",
              "\n",
              "       is_purchased  event_weekday  activity_count       income  age  \\\n",
              "47479           0.0              4            14.0  2090.202473   54   \n",
              "47480           0.0              4             6.0  2101.059568   67   \n",
              "47481           0.0              4             6.0  2144.249772   52   \n",
              "\n",
              "      marriage_status          profession country  \n",
              "47479          single  Software_Developer   India  \n",
              "47480         married  Software_Developer   China  \n",
              "47481          single  Software_Developer   China  "
            ]
          },
          "execution_count": 7,
          "metadata": {},
          "output_type": "execute_result"
        }
      ],
      "source": [
        "data.tail(3) #Display the last 3 rows of the dataset"
      ]
    },
    {
      "cell_type": "code",
      "execution_count": null,
      "metadata": {
        "colab": {
          "base_uri": "https://localhost:8080/"
        },
        "id": "o6tQtwI5znt5",
        "outputId": "a2bbbac1-d87b-4772-dc1a-af2f72876dd6"
      },
      "outputs": [
        {
          "name": "stdout",
          "output_type": "stream",
          "text": [
            "<class 'pandas.core.frame.DataFrame'>\n",
            "RangeIndex: 47482 entries, 0 to 47481\n",
            "Data columns (total 19 columns):\n",
            " #   Column           Non-Null Count  Dtype  \n",
            "---  ------           --------------  -----  \n",
            " 0   event_time       47482 non-null  object \n",
            " 1   event_type       47482 non-null  object \n",
            " 2   product_id       47482 non-null  int64  \n",
            " 3   category_id      47482 non-null  int64  \n",
            " 4   category_code    47482 non-null  object \n",
            " 5   brand            47482 non-null  object \n",
            " 6   price            47482 non-null  float64\n",
            " 7   user_id          47482 non-null  int64  \n",
            " 8   user_session     47482 non-null  object \n",
            " 9   category         47482 non-null  object \n",
            " 10  subcategory      47482 non-null  object \n",
            " 11  is_purchased     47482 non-null  float64\n",
            " 12  event_weekday    47482 non-null  int64  \n",
            " 13  activity_count   47482 non-null  float64\n",
            " 14  income           47482 non-null  float64\n",
            " 15  age              47482 non-null  int64  \n",
            " 16  marriage_status  47482 non-null  object \n",
            " 17  profession       47482 non-null  object \n",
            " 18  country          47482 non-null  object \n",
            "dtypes: float64(4), int64(5), object(10)\n",
            "memory usage: 6.9+ MB\n"
          ]
        }
      ],
      "source": [
        "#Displaying basic information about the data\n",
        "data.info()"
      ]
    },
    {
      "cell_type": "code",
      "execution_count": null,
      "metadata": {
        "colab": {
          "base_uri": "https://localhost:8080/",
          "height": 396
        },
        "id": "t6ji8JBz3tAU",
        "outputId": "52f67501-3773-4200-ad68-c0e3cf6c5201"
      },
      "outputs": [
        {
          "data": {
            "image/png": "[encoded data removed]",
            "text/plain": [
              "<Figure size 1080x360 with 1 Axes>"
            ]
          },
          "metadata": {},
          "output_type": "display_data"
        }
      ],
      "source": [
        "data.isnull().sum().plot(kind = 'bar', figsize = (15, 5))\n",
        "plt.title(\"Checking for missing values\")\n",
        "plt.show()"
      ]
    },
    {
      "cell_type": "markdown",
      "metadata": {
        "id": "JvoR0uMk-9LH"
      },
      "source": [
        "- There no missing values in the dataset"
      ]
    },
    {
      "cell_type": "code",
      "execution_count": null,
      "metadata": {
        "colab": {
          "base_uri": "https://localhost:8080/"
        },
        "id": "Riy40BbS-Hpm",
        "outputId": "6173d3c8-b905-4cf3-fe8f-aaa824266025"
      },
      "outputs": [
        {
          "name": "stdout",
          "output_type": "stream",
          "text": [
            "Total Number of Users is 32431\n"
          ]
        }
      ],
      "source": [
        "visits = data['user_id'].nunique()\n",
        "print(f\"Total Number of Users is {visits}\")"
      ]
    },
    {
      "cell_type": "code",
      "execution_count": null,
      "metadata": {
        "colab": {
          "base_uri": "https://localhost:8080/",
          "height": 484
        },
        "id": "-8E4DZaa_rs6",
        "outputId": "fc27f526-4ba0-4eac-b45d-db000b0f882d"
      },
      "outputs": [
        {
          "data": {
            "image/png": "[encoded data removed]",
            "text/plain": [
              "<Figure size 576x576 with 1 Axes>"
            ]
          },
          "metadata": {},
          "output_type": "display_data"
        }
      ],
      "source": [
        "plt.figure(figsize = (8, 8))\n",
        "plt.pie(data['event_type'].value_counts(), colors = ['lightgreen', 'lightblue','lightcoral'], labels = ['view', 'cart','purchase'], autopct = '%.1f%%')\n",
        "plt.title('Event Type', fontsize = 17)\n",
        "plt.axis('off')\n",
        "plt.legend()\n",
        "plt.show()"
      ]
    },
    {
      "cell_type": "markdown",
      "metadata": {
        "id": "swLHhUylBXQO"
      },
      "source": [
        "- From the above chart, the highest event type is **View** which is always true in an e-commerce platform."
      ]
    },
    {
      "cell_type": "code",
      "execution_count": null,
      "metadata": {
        "colab": {
          "base_uri": "https://localhost:8080/",
          "height": 349
        },
        "id": "ROFGzrK_BB8k",
        "outputId": "ada91845-0f77-4ede-b4eb-b2e82428614d"
      },
      "outputs": [
        {
          "data": {
            "image/png": "[encoded data removed]",
            "text/plain": [
              "<Figure size 720x360 with 1 Axes>"
            ]
          },
          "metadata": {},
          "output_type": "display_data"
        }
      ],
      "source": [
        "plt.figure(figsize = (10, 5))\n",
        "sns.countplot(data['category_code']).set_title(\"Category Code\")\n",
        "plt.show()"
      ]
    },
    {
      "cell_type": "markdown",
      "metadata": {
        "id": "gkneQgfCBtjU"
      },
      "source": [
        "- we have three product category code of which the highest is electronic smartphone"
      ]
    },
    {
      "cell_type": "code",
      "execution_count": null,
      "metadata": {
        "colab": {
          "base_uri": "https://localhost:8080/",
          "height": 349
        },
        "id": "Z6UGhLJkBl9r",
        "outputId": "986aaae4-7385-4656-b137-646d8f8d4233"
      },
      "outputs": [
        {
          "data": {
            "image/png": "[encoded data removed]",
            "text/plain": [
              "<Figure size 720x360 with 1 Axes>"
            ]
          },
          "metadata": {},
          "output_type": "display_data"
        }
      ],
      "source": [
        "plt.figure(figsize = (10, 5))\n",
        "sns.countplot(data['category']).set_title(\"Category\")\n",
        "plt.show()"
      ]
    },
    {
      "cell_type": "markdown",
      "metadata": {
        "id": "Glv2X6zpBzpU"
      },
      "source": [
        "- The highest product category is electronics "
      ]
    },
    {
      "cell_type": "code",
      "execution_count": null,
      "metadata": {
        "colab": {
          "base_uri": "https://localhost:8080/",
          "height": 349
        },
        "id": "kfjaEJ7eBw63",
        "outputId": "865a45d2-e7de-43a9-bb55-1de56453bb6a"
      },
      "outputs": [
        {
          "data": {
            "image/png": "[encoded data removed]",
            "text/plain": [
              "<Figure size 720x360 with 1 Axes>"
            ]
          },
          "metadata": {},
          "output_type": "display_data"
        }
      ],
      "source": [
        "plt.figure(figsize = (10, 5))\n",
        "sns.countplot(data['subcategory']).set_title(\"sub category\")\n",
        "plt.show()"
      ]
    },
    {
      "cell_type": "markdown",
      "metadata": {
        "id": "WWHHo6VeCPCW"
      },
      "source": [
        "- The highest product subcategory is smartphone which is obvious as people tends to buy a smartphone than any other devics\n",
        "- The three category columns are correlated so we can drop others and only use one for building the model."
      ]
    },
    {
      "cell_type": "code",
      "execution_count": null,
      "metadata": {
        "colab": {
          "base_uri": "https://localhost:8080/",
          "height": 518
        },
        "id": "jFAsyqLlC9lK",
        "outputId": "c63bcd67-657a-4507-af16-ee5deaf03954"
      },
      "outputs": [
        {
          "data": {
            "image/png": "[encoded data removed]",
            "text/plain": [
              "<Figure size 1368x504 with 1 Axes>"
            ]
          },
          "metadata": {},
          "output_type": "display_data"
        }
      ],
      "source": [
        "data['brand'].value_counts().plot(kind = 'bar', title = 'Distribution of brands according to how much engagement they get',\n",
        "                                  figsize = (19, 7))\n",
        "plt.xlabel(\"Brand\")\n",
        "plt.show()"
      ]
    },
    {
      "cell_type": "code",
      "execution_count": null,
      "metadata": {
        "colab": {
          "base_uri": "https://localhost:8080/",
          "height": 457
        },
        "id": "HgTyaRxSDPj4",
        "outputId": "b2135216-e341-4474-8843-8b67ff8885fd"
      },
      "outputs": [
        {
          "data": {
            "image/png": "[encoded data removed]",
            "text/plain": [
              "<Figure size 1080x504 with 1 Axes>"
            ]
          },
          "metadata": {},
          "output_type": "display_data"
        }
      ],
      "source": [
        "plt.figure(figsize = (15, 7))\n",
        "plt.scatter(data['price'], data['activity_count'], alpha = 0.5)\n",
        "plt.title(\"Relationship between activity counts and the price\")\n",
        "plt.xlabel(\"Price\")\n",
        "plt.ylabel(\"Activity Count\")\n",
        "plt.show()"
      ]
    },
    {
      "cell_type": "markdown",
      "metadata": {
        "id": "UT72FgLJDm0l"
      },
      "source": [
        "- There is somewhat negative relaionship between activity counts and price. Meaning as the activity counts falls the price might go up and vice versa "
      ]
    },
    {
      "cell_type": "code",
      "execution_count": null,
      "metadata": {
        "colab": {
          "base_uri": "https://localhost:8080/",
          "height": 504
        },
        "id": "gH0tu4aADxDt",
        "outputId": "d70a6f5f-c279-4ee4-bbac-1df4a2398e47"
      },
      "outputs": [
        {
          "data": {
            "image/png": "[encoded data removed]",
            "text/plain": [
              "<Figure size 1368x504 with 1 Axes>"
            ]
          },
          "metadata": {},
          "output_type": "display_data"
        }
      ],
      "source": [
        "data['country'].value_counts().plot(kind = 'bar', title = 'Distribution of Countries according to their respective engagement',\n",
        "                                     figsize = (19, 7))\n",
        "plt.xlabel(\"Countries\")\n",
        "plt.show()"
      ]
    },
    {
      "cell_type": "markdown",
      "metadata": {
        "id": "gkrKE3MIFd8R"
      },
      "source": [
        "- **China** is the location with the highest engagement which is true because china has the largest ecommerce market in the world."
      ]
    },
    {
      "cell_type": "code",
      "execution_count": null,
      "metadata": {
        "colab": {
          "base_uri": "https://localhost:8080/",
          "height": 457
        },
        "id": "lOZW5aAbF3A_",
        "outputId": "5ffb5eee-4390-4d25-e53a-7a141cfb2f7d"
      },
      "outputs": [
        {
          "data": {
            "image/png": "[encoded data removed]",
            "text/plain": [
              "<Figure size 1080x504 with 1 Axes>"
            ]
          },
          "metadata": {},
          "output_type": "display_data"
        }
      ],
      "source": [
        "plt.figure(figsize = (15, 7))\n",
        "plt.scatter(data['income'], data['price'], alpha = 0.5)\n",
        "plt.title(\"Relationship between income and the price of the products\")\n",
        "plt.xlabel(\"Income\")\n",
        "plt.ylabel(\"Price\")\n",
        "plt.show()"
      ]
    },
    {
      "cell_type": "markdown",
      "metadata": {
        "id": "aj_Y2XzjQVbk"
      },
      "source": [
        "There is no noticeable relationship between the price and the income variable"
      ]
    },
    {
      "cell_type": "code",
      "execution_count": null,
      "metadata": {
        "colab": {
          "base_uri": "https://localhost:8080/",
          "height": 580
        },
        "id": "Q_RffDhsR2_o",
        "outputId": "7b2f73f3-6908-456c-ff87-cf64e6863d48"
      },
      "outputs": [
        {
          "data": {
            "image/png": "[encoded data removed]",
            "text/plain": [
              "<Figure size 1368x504 with 1 Axes>"
            ]
          },
          "metadata": {},
          "output_type": "display_data"
        }
      ],
      "source": [
        "data['profession'].value_counts().plot(kind = 'bar', title = 'Profession Of Visitors',\n",
        "                                  figsize = (19, 7))\n",
        "plt.xlabel(\"Profession\")\n",
        "plt.show()"
      ]
    },
    {
      "cell_type": "markdown",
      "metadata": {
        "id": "l_55nMylWPij"
      },
      "source": [
        "- **Physician** is the profession that uses ecommerce platform most"
      ]
    },
    {
      "cell_type": "code",
      "execution_count": null,
      "metadata": {
        "colab": {
          "base_uri": "https://localhost:8080/",
          "height": 294
        },
        "id": "DNzrYLdWTMa0",
        "outputId": "41f66224-355d-4be4-b816-bbaca71c48fd"
      },
      "outputs": [
        {
          "data": {
            "image/png": "[encoded data removed]",
            "text/plain": [
              "<Figure size 432x288 with 1 Axes>"
            ]
          },
          "metadata": {},
          "output_type": "display_data"
        }
      ],
      "source": [
        "sns.countplot(data['marriage_status']).set_title(\"Marriage Status\")\n",
        "plt.show()"
      ]
    },
    {
      "cell_type": "markdown",
      "metadata": {
        "id": "nqCDEAbnWtKk"
      },
      "source": [
        "- Only very few users are married"
      ]
    },
    {
      "cell_type": "code",
      "execution_count": null,
      "metadata": {
        "colab": {
          "base_uri": "https://localhost:8080/",
          "height": 443
        },
        "id": "pDyeF_5MaMAp",
        "outputId": "035bba82-77c4-4a86-8919-84b8a4c67eb6"
      },
      "outputs": [
        {
          "data": {
            "image/png": "[encoded data removed]",
            "text/plain": [
              "<Figure size 1368x504 with 1 Axes>"
            ]
          },
          "metadata": {},
          "output_type": "display_data"
        }
      ],
      "source": [
        "plt.figure(figsize = (19, 7))\n",
        "vdt = data.loc[:,['event_time','user_id']] # Selecting only the event_time and user_id columns\n",
        "vdt['event_time'] = vdt['event_time'].apply(lambda s: str(s)[0:10])\n",
        "visit_by_date = vdt.drop_duplicates().groupby(['event_time'])['user_id'].agg(['count']).sort_values(by=['event_time'], ascending=True)\n",
        "x = pd.Series(visit_by_date.index.values).apply(lambda s: datetime.strptime(s, '%Y-%m-%d').date())\n",
        "y = visit_by_date['count']\n",
        "plt.title(\"Users Daily Trend\")\n",
        "plt.plot(x,y)\n",
        "plt.show()"
      ]
    },
    {
      "cell_type": "markdown",
      "metadata": {
        "id": "RMuxfJv3aUed"
      },
      "source": [
        "The highest visits occur on 2019-10-05(Saturday) which could be as a result of weekend when little or no work is done by the people and also on 2019-10-01(Tuesday)"
      ]
    },
    {
      "cell_type": "code",
      "execution_count": null,
      "metadata": {
        "colab": {
          "base_uri": "https://localhost:8080/"
        },
        "id": "WEQAa-n4bjZ4",
        "outputId": "1f23b2b8-ecab-4a2a-b819-0aab8ae3db34"
      },
      "outputs": [
        {
          "name": "stdout",
          "output_type": "stream",
          "text": [
            "1. Out of 32431 that visited the store, 4524 products were carted\n",
            "\n",
            "2. Out of 32431 that visited the store, only 1123 bought a product\n"
          ]
        }
      ],
      "source": [
        "buy = data[data['event_type'] == 'purchase'] #Items the custumers bought\n",
        "cart = data[data['event_type'] == 'cart'] #Items that were carted\n",
        "\n",
        "no_of_total_visitors = data['user_id'].nunique() #to get the no of those that visit the store\n",
        "no_of_cart = cart['user_id'].nunique() # the number of people that cart product from the store\n",
        "\n",
        "no_of_total_visitors = data['user_id'].nunique() #to get the no of those that visit the store\n",
        "no_of_buy = buy['user_id'].nunique() # the number of people that buy from the store\n",
        "\n",
        "print(f\"1. Out of {no_of_total_visitors} that visited the store, {no_of_cart} products were carted\\n\")\n",
        "print(f\"2. Out of {no_of_total_visitors} that visited the store, only {no_of_buy} bought a product\")"
      ]
    },
    {
      "cell_type": "code",
      "execution_count": null,
      "metadata": {
        "colab": {
          "base_uri": "https://localhost:8080/"
        },
        "id": "eMNvhu9VeGqY",
        "outputId": "66aabd6a-93d1-47ba-cae0-2235b0c340eb"
      },
      "outputs": [
        {
          "data": {
            "text/plain": [
              "samsung    334\n",
              "apple      255\n",
              "ariston    251\n",
              "xiaomi     104\n",
              "acer        73\n",
              "Name: brand, dtype: int64"
            ]
          },
          "execution_count": 23,
          "metadata": {},
          "output_type": "execute_result"
        }
      ],
      "source": [
        "# Checking the brand that was bought most\n",
        "\n",
        "buy['brand'].value_counts()[: 5]"
      ]
    },
    {
      "cell_type": "markdown",
      "metadata": {
        "id": "oxL5wf78eeSg"
      },
      "source": [
        "The product with the highest sale is Samsung"
      ]
    },
    {
      "cell_type": "code",
      "execution_count": null,
      "metadata": {
        "colab": {
          "base_uri": "https://localhost:8080/"
        },
        "id": "fNVxdMnueGLJ",
        "outputId": "b7600850-5125-4ff8-cc09-e75212771cfb"
      },
      "outputs": [
        {
          "data": {
            "text/plain": [
              "samsung    1556\n",
              "apple      1439\n",
              "acer        935\n",
              "lenovo      390\n",
              "xiaomi      381\n",
              "Name: brand, dtype: int64"
            ]
          },
          "execution_count": 24,
          "metadata": {},
          "output_type": "execute_result"
        }
      ],
      "source": [
        "# Checking the brand that was carted most\n",
        "\n",
        "cart['brand'].value_counts()[: 5]"
      ]
    },
    {
      "cell_type": "markdown",
      "metadata": {
        "id": "6FNpMH_xekTq"
      },
      "source": [
        "Samsung is also the product brand that was carted most"
      ]
    },
    {
      "cell_type": "code",
      "execution_count": null,
      "metadata": {
        "colab": {
          "base_uri": "https://localhost:8080/",
          "height": 394
        },
        "id": "GS9uAuWweF2G",
        "outputId": "5bafa24c-109c-4ce2-aa0b-d1f3d62d3841"
      },
      "outputs": [
        {
          "data": {
            "image/png": "[encoded data removed]",
            "text/plain": [
              "<Figure size 720x360 with 2 Axes>"
            ]
          },
          "metadata": {},
          "output_type": "display_data"
        }
      ],
      "source": [
        "plt.figure(figsize = (10, 5))\n",
        "sns.heatmap(data.corr()).set_title(\"Correlation plot of numeric values\")\n",
        "plt.show()"
      ]
    },
    {
      "cell_type": "markdown",
      "metadata": {
        "id": "-JZq4EQEfOb6"
      },
      "source": [
        "The corelation between product id and category id is the highest, the two columns will be dropped as they won't give more information to the model"
      ]
    },
    {
      "cell_type": "markdown",
      "metadata": {
        "id": "wfbdd_0UfbL9"
      },
      "source": [
        "## Data Preprocessing\n",
        "- The 'category', 'subcategory' and 'category_code' provides similar information hence, only one of them will be used for modelling.\n",
        "- The event_type and is_purchased column also provides similar information, hence only the event_type column will be used for modelling."
      ]
    },
    {
      "cell_type": "code",
      "execution_count": null,
      "metadata": {
        "id": "0Eddf8zefars"
      },
      "outputs": [],
      "source": [
        " #dropping the 'category_code' and 'subcategory'  and other irrelavant columns\n",
        "data = data.drop(['category_code', 'subcategory', 'product_id', 'category_id', 'user_session', 'is_purchased'], axis = 1) "
      ]
    },
    {
      "cell_type": "code",
      "execution_count": null,
      "metadata": {
        "colab": {
          "base_uri": "https://localhost:8080/",
          "height": 297
        },
        "id": "vznAGZHoeFkV",
        "outputId": "1edcb263-2b51-4ddf-b445-63a46d7081d5"
      },
      "outputs": [
        {
          "data": {
            "text/plain": [
              "<matplotlib.axes._subplots.AxesSubplot at 0x7f80afb761d0>"
            ]
          },
          "execution_count": 27,
          "metadata": {},
          "output_type": "execute_result"
        },
        {
          "data": {
            "image/png": "[encoded data removed]",
            "text/plain": [
              "<Figure size 432x288 with 1 Axes>"
            ]
          },
          "metadata": {},
          "output_type": "display_data"
        }
      ],
      "source": [
        "sns.countplot(data['category'])"
      ]
    },
    {
      "cell_type": "code",
      "execution_count": null,
      "metadata": {
        "colab": {
          "base_uri": "https://localhost:8080/"
        },
        "id": "n7Vp9-uLftwP",
        "outputId": "a3d79609-3b8f-4dd0-c998-8226e84ec923"
      },
      "outputs": [
        {
          "data": {
            "text/plain": [
              "array(['appliances|environment', 'computers', 'electronics'], dtype=object)"
            ]
          },
          "execution_count": 28,
          "metadata": {},
          "output_type": "execute_result"
        }
      ],
      "source": [
        "data['category'].unique()"
      ]
    },
    {
      "cell_type": "markdown",
      "metadata": {
        "id": "d9KQy1UedFWj"
      },
      "source": [
        "- According to the subcategory and category_code column, it is evident that \n",
        "1. Electronics represent **smartphone** and\n",
        "2. Computers represent **computers**\n",
        "\n",
        "- The 'appliances|environment' value in the category column will be replaced with the most frequent **smartphone** and other values will be renamed accordingly"
      ]
    },
    {
      "cell_type": "code",
      "execution_count": null,
      "metadata": {
        "id": "R5S79z5hQJCt"
      },
      "outputs": [],
      "source": [
        "#Renaming the values of the category column so that we have only computer and smartphone\n",
        "data['category'] = data['category'].replace(['appliances|environment', 'electronics'], 'smartphone')"
      ]
    },
    {
      "cell_type": "code",
      "execution_count": null,
      "metadata": {
        "colab": {
          "base_uri": "https://localhost:8080/"
        },
        "id": "ejaJ2O8RgA5q",
        "outputId": "7b37c039-dee4-43ac-afe6-daf0aeeec7dc"
      },
      "outputs": [
        {
          "data": {
            "text/plain": [
              "array(['smartphone', 'computers'], dtype=object)"
            ]
          },
          "execution_count": 30,
          "metadata": {},
          "output_type": "execute_result"
        }
      ],
      "source": [
        "data['category'].unique()"
      ]
    },
    {
      "cell_type": "markdown",
      "metadata": {
        "id": "5Zbwg18LgB-b"
      },
      "source": [
        "- The values of the category column has been renamed accordingly"
      ]
    },
    {
      "cell_type": "code",
      "execution_count": null,
      "metadata": {
        "colab": {
          "base_uri": "https://localhost:8080/",
          "height": 424
        },
        "id": "mxRvlMGWgJ8m",
        "outputId": "0b7eb193-ee73-4af8-f620-eeb58d60ef5e"
      },
      "outputs": [
        {
          "data": {
            "text/html": [
              "\n",
              "  <div id=\"df-1df8a103-513a-439c-bb0f-474b3c1cced7\">\n",
              "    <div class=\"colab-df-container\">\n",
              "      <div>\n",
              "<style scoped>\n",
              "    .dataframe tbody tr th:only-of-type {\n",
              "        vertical-align: middle;\n",
              "    }\n",
              "\n",
              "    .dataframe tbody tr th {\n",
              "        vertical-align: top;\n",
              "    }\n",
              "\n",
              "    .dataframe thead th {\n",
              "        text-align: right;\n",
              "    }\n",
              "</style>\n",
              "<table border=\"1\" class=\"dataframe\">\n",
              "  <thead>\n",
              "    <tr style=\"text-align: right;\">\n",
              "      <th></th>\n",
              "      <th>event_time</th>\n",
              "      <th>event_type</th>\n",
              "      <th>brand</th>\n",
              "      <th>price</th>\n",
              "      <th>user_id</th>\n",
              "      <th>category</th>\n",
              "      <th>event_weekday</th>\n",
              "      <th>activity_count</th>\n",
              "      <th>income</th>\n",
              "      <th>age</th>\n",
              "      <th>marriage_status</th>\n",
              "      <th>profession</th>\n",
              "      <th>country</th>\n",
              "    </tr>\n",
              "  </thead>\n",
              "  <tbody>\n",
              "    <tr>\n",
              "      <th>0</th>\n",
              "      <td>2019-10-01 03:36:06 UTC</td>\n",
              "      <td>purchase</td>\n",
              "      <td>ariston</td>\n",
              "      <td>84.69</td>\n",
              "      <td>514732891</td>\n",
              "      <td>smartphone</td>\n",
              "      <td>1</td>\n",
              "      <td>21.0</td>\n",
              "      <td>312.415297</td>\n",
              "      <td>23</td>\n",
              "      <td>single</td>\n",
              "      <td>Physician</td>\n",
              "      <td>South Korea</td>\n",
              "    </tr>\n",
              "    <tr>\n",
              "      <th>1</th>\n",
              "      <td>2019-10-01 04:07:44 UTC</td>\n",
              "      <td>purchase</td>\n",
              "      <td>ariston</td>\n",
              "      <td>133.82</td>\n",
              "      <td>515798665</td>\n",
              "      <td>smartphone</td>\n",
              "      <td>1</td>\n",
              "      <td>4.0</td>\n",
              "      <td>1814.950879</td>\n",
              "      <td>40</td>\n",
              "      <td>single</td>\n",
              "      <td>Physician</td>\n",
              "      <td>USA</td>\n",
              "    </tr>\n",
              "    <tr>\n",
              "      <th>2</th>\n",
              "      <td>2019-10-01 04:43:16 UTC</td>\n",
              "      <td>purchase</td>\n",
              "      <td>thermex</td>\n",
              "      <td>115.75</td>\n",
              "      <td>518045212</td>\n",
              "      <td>smartphone</td>\n",
              "      <td>1</td>\n",
              "      <td>3.0</td>\n",
              "      <td>956.489912</td>\n",
              "      <td>66</td>\n",
              "      <td>married</td>\n",
              "      <td>Physician</td>\n",
              "      <td>India</td>\n",
              "    </tr>\n",
              "    <tr>\n",
              "      <th>3</th>\n",
              "      <td>2019-10-01 05:07:47 UTC</td>\n",
              "      <td>purchase</td>\n",
              "      <td>ariston</td>\n",
              "      <td>103.18</td>\n",
              "      <td>514008577</td>\n",
              "      <td>smartphone</td>\n",
              "      <td>1</td>\n",
              "      <td>16.0</td>\n",
              "      <td>1499.125653</td>\n",
              "      <td>41</td>\n",
              "      <td>single</td>\n",
              "      <td>Physician</td>\n",
              "      <td>Mexico</td>\n",
              "    </tr>\n",
              "    <tr>\n",
              "      <th>4</th>\n",
              "      <td>2019-10-01 05:14:48 UTC</td>\n",
              "      <td>purchase</td>\n",
              "      <td>ariston</td>\n",
              "      <td>105.68</td>\n",
              "      <td>513400739</td>\n",
              "      <td>smartphone</td>\n",
              "      <td>1</td>\n",
              "      <td>10.0</td>\n",
              "      <td>1382.295251</td>\n",
              "      <td>47</td>\n",
              "      <td>single</td>\n",
              "      <td>Physician</td>\n",
              "      <td>France</td>\n",
              "    </tr>\n",
              "  </tbody>\n",
              "</table>\n",
              "</div>\n",
              "      <button class=\"colab-df-convert\" onclick=\"convertToInteractive('df-1df8a103-513a-439c-bb0f-474b3c1cced7')\"\n",
              "              title=\"Convert this dataframe to an interactive table.\"\n",
              "              style=\"display:none;\">\n",
              "        \n",
              "  <svg xmlns=\"http://www.w3.org/2000/svg\" height=\"24px\"viewBox=\"0 0 24 24\"\n",
              "       width=\"24px\">\n",
              "    <path d=\"M0 0h24v24H0V0z\" fill=\"none\"/>\n",
              "    <path d=\"M18.56 5.44l.94 2.06.94-2.06 2.06-.94-2.06-.94-.94-2.06-.94 2.06-2.06.94zm-11 1L8.5 8.5l.94-2.06 2.06-.94-2.06-.94L8.5 2.5l-.94 2.06-2.06.94zm10 10l.94 2.06.94-2.06 2.06-.94-2.06-.94-.94-2.06-.94 2.06-2.06.94z\"/><path d=\"M17.41 7.96l-1.37-1.37c-.4-.4-.92-.59-1.43-.59-.52 0-1.04.2-1.43.59L10.3 9.45l-7.72 7.72c-.78.78-.78 2.05 0 2.83L4 21.41c.39.39.9.59 1.41.59.51 0 1.02-.2 1.41-.59l7.78-7.78 2.81-2.81c.8-.78.8-2.07 0-2.86zM5.41 20L4 18.59l7.72-7.72 1.47 1.35L5.41 20z\"/>\n",
              "  </svg>\n",
              "      </button>\n",
              "      \n",
              "  <style>\n",
              "    .colab-df-container {\n",
              "      display:flex;\n",
              "      flex-wrap:wrap;\n",
              "      gap: 12px;\n",
              "    }\n",
              "\n",
              "    .colab-df-convert {\n",
              "      background-color: #E8F0FE;\n",
              "      border: none;\n",
              "      border-radius: 50%;\n",
              "      cursor: pointer;\n",
              "      display: none;\n",
              "      fill: #1967D2;\n",
              "      height: 32px;\n",
              "      padding: 0 0 0 0;\n",
              "      width: 32px;\n",
              "    }\n",
              "\n",
              "    .colab-df-convert:hover {\n",
              "      background-color: #E2EBFA;\n",
              "      box-shadow: 0px 1px 2px rgba(60, 64, 67, 0.3), 0px 1px 3px 1px rgba(60, 64, 67, 0.15);\n",
              "      fill: #174EA6;\n",
              "    }\n",
              "\n",
              "    [theme=dark] .colab-df-convert {\n",
              "      background-color: #3B4455;\n",
              "      fill: #D2E3FC;\n",
              "    }\n",
              "\n",
              "    [theme=dark] .colab-df-convert:hover {\n",
              "      background-color: #434B5C;\n",
              "      box-shadow: 0px 1px 3px 1px rgba(0, 0, 0, 0.15);\n",
              "      filter: drop-shadow(0px 1px 2px rgba(0, 0, 0, 0.3));\n",
              "      fill: #FFFFFF;\n",
              "    }\n",
              "  </style>\n",
              "\n",
              "      <script>\n",
              "        const buttonEl =\n",
              "          document.querySelector('#df-1df8a103-513a-439c-bb0f-474b3c1cced7 button.colab-df-convert');\n",
              "        buttonEl.style.display =\n",
              "          google.colab.kernel.accessAllowed ? 'block' : 'none';\n",
              "\n",
              "        async function convertToInteractive(key) {\n",
              "          const element = document.querySelector('#df-1df8a103-513a-439c-bb0f-474b3c1cced7');\n",
              "          const dataTable =\n",
              "            await google.colab.kernel.invokeFunction('convertToInteractive',\n",
              "                                                     [key], {});\n",
              "          if (!dataTable) return;\n",
              "\n",
              "          const docLinkHtml = 'Like what you see? Visit the ' +\n",
              "            '<a target=\"_blank\" href=https://colab.research.google.com/notebooks/data_table.ipynb>data table notebook</a>'\n",
              "            + ' to learn more about interactive tables.';\n",
              "          element.innerHTML = '';\n",
              "          dataTable['output_type'] = 'display_data';\n",
              "          await google.colab.output.renderOutput(dataTable, element);\n",
              "          const docLink = document.createElement('div');\n",
              "          docLink.innerHTML = docLinkHtml;\n",
              "          element.appendChild(docLink);\n",
              "        }\n",
              "      </script>\n",
              "    </div>\n",
              "  </div>\n",
              "  "
            ],
            "text/plain": [
              "                event_time event_type    brand   price    user_id    category  \\\n",
              "0  2019-10-01 03:36:06 UTC   purchase  ariston   84.69  514732891  smartphone   \n",
              "1  2019-10-01 04:07:44 UTC   purchase  ariston  133.82  515798665  smartphone   \n",
              "2  2019-10-01 04:43:16 UTC   purchase  thermex  115.75  518045212  smartphone   \n",
              "3  2019-10-01 05:07:47 UTC   purchase  ariston  103.18  514008577  smartphone   \n",
              "4  2019-10-01 05:14:48 UTC   purchase  ariston  105.68  513400739  smartphone   \n",
              "\n",
              "   event_weekday  activity_count       income  age marriage_status profession  \\\n",
              "0              1            21.0   312.415297   23          single  Physician   \n",
              "1              1             4.0  1814.950879   40          single  Physician   \n",
              "2              1             3.0   956.489912   66         married  Physician   \n",
              "3              1            16.0  1499.125653   41          single  Physician   \n",
              "4              1            10.0  1382.295251   47          single  Physician   \n",
              "\n",
              "       country  \n",
              "0  South Korea  \n",
              "1          USA  \n",
              "2        India  \n",
              "3       Mexico  \n",
              "4       France  "
            ]
          },
          "execution_count": 31,
          "metadata": {},
          "output_type": "execute_result"
        }
      ],
      "source": [
        "data.head()"
      ]
    },
    {
      "cell_type": "code",
      "execution_count": null,
      "metadata": {
        "id": "dG8sjknpgVPz"
      },
      "outputs": [],
      "source": [
        "#From the event_time column we are going to extract the month, day and year\n",
        "data['event_time'] = data['event_time'].str.strip('UTC')\n",
        "data['event_time'] = pd.to_datetime(data['event_time'], format = '%Y-%m-%d')\n",
        "data['year'] = data['event_time'].dt.year\n",
        "data['month'] = data['event_time'].dt.month_name()\n",
        "data['day'] = data['event_time'].dt.day_name()"
      ]
    },
    {
      "cell_type": "code",
      "execution_count": null,
      "metadata": {
        "colab": {
          "base_uri": "https://localhost:8080/",
          "height": 260
        },
        "id": "SImMKLHAgftb",
        "outputId": "09ad9918-c853-46e6-db4a-4bfc8b0d9111"
      },
      "outputs": [
        {
          "data": {
            "text/html": [
              "\n",
              "  <div id=\"df-b79fc54a-4770-4250-8154-168b57df151e\">\n",
              "    <div class=\"colab-df-container\">\n",
              "      <div>\n",
              "<style scoped>\n",
              "    .dataframe tbody tr th:only-of-type {\n",
              "        vertical-align: middle;\n",
              "    }\n",
              "\n",
              "    .dataframe tbody tr th {\n",
              "        vertical-align: top;\n",
              "    }\n",
              "\n",
              "    .dataframe thead th {\n",
              "        text-align: right;\n",
              "    }\n",
              "</style>\n",
              "<table border=\"1\" class=\"dataframe\">\n",
              "  <thead>\n",
              "    <tr style=\"text-align: right;\">\n",
              "      <th></th>\n",
              "      <th>event_time</th>\n",
              "      <th>event_type</th>\n",
              "      <th>brand</th>\n",
              "      <th>price</th>\n",
              "      <th>user_id</th>\n",
              "      <th>category</th>\n",
              "      <th>event_weekday</th>\n",
              "      <th>activity_count</th>\n",
              "      <th>income</th>\n",
              "      <th>age</th>\n",
              "      <th>marriage_status</th>\n",
              "      <th>profession</th>\n",
              "      <th>country</th>\n",
              "      <th>year</th>\n",
              "      <th>month</th>\n",
              "      <th>day</th>\n",
              "    </tr>\n",
              "  </thead>\n",
              "  <tbody>\n",
              "    <tr>\n",
              "      <th>0</th>\n",
              "      <td>2019-10-01 03:36:06</td>\n",
              "      <td>purchase</td>\n",
              "      <td>ariston</td>\n",
              "      <td>84.69</td>\n",
              "      <td>514732891</td>\n",
              "      <td>smartphone</td>\n",
              "      <td>1</td>\n",
              "      <td>21.0</td>\n",
              "      <td>312.415297</td>\n",
              "      <td>23</td>\n",
              "      <td>single</td>\n",
              "      <td>Physician</td>\n",
              "      <td>South Korea</td>\n",
              "      <td>2019</td>\n",
              "      <td>October</td>\n",
              "      <td>Tuesday</td>\n",
              "    </tr>\n",
              "    <tr>\n",
              "      <th>1</th>\n",
              "      <td>2019-10-01 04:07:44</td>\n",
              "      <td>purchase</td>\n",
              "      <td>ariston</td>\n",
              "      <td>133.82</td>\n",
              "      <td>515798665</td>\n",
              "      <td>smartphone</td>\n",
              "      <td>1</td>\n",
              "      <td>4.0</td>\n",
              "      <td>1814.950879</td>\n",
              "      <td>40</td>\n",
              "      <td>single</td>\n",
              "      <td>Physician</td>\n",
              "      <td>USA</td>\n",
              "      <td>2019</td>\n",
              "      <td>October</td>\n",
              "      <td>Tuesday</td>\n",
              "    </tr>\n",
              "    <tr>\n",
              "      <th>2</th>\n",
              "      <td>2019-10-01 04:43:16</td>\n",
              "      <td>purchase</td>\n",
              "      <td>thermex</td>\n",
              "      <td>115.75</td>\n",
              "      <td>518045212</td>\n",
              "      <td>smartphone</td>\n",
              "      <td>1</td>\n",
              "      <td>3.0</td>\n",
              "      <td>956.489912</td>\n",
              "      <td>66</td>\n",
              "      <td>married</td>\n",
              "      <td>Physician</td>\n",
              "      <td>India</td>\n",
              "      <td>2019</td>\n",
              "      <td>October</td>\n",
              "      <td>Tuesday</td>\n",
              "    </tr>\n",
              "  </tbody>\n",
              "</table>\n",
              "</div>\n",
              "      <button class=\"colab-df-convert\" onclick=\"convertToInteractive('df-b79fc54a-4770-4250-8154-168b57df151e')\"\n",
              "              title=\"Convert this dataframe to an interactive table.\"\n",
              "              style=\"display:none;\">\n",
              "        \n",
              "  <svg xmlns=\"http://www.w3.org/2000/svg\" height=\"24px\"viewBox=\"0 0 24 24\"\n",
              "       width=\"24px\">\n",
              "    <path d=\"M0 0h24v24H0V0z\" fill=\"none\"/>\n",
              "    <path d=\"M18.56 5.44l.94 2.06.94-2.06 2.06-.94-2.06-.94-.94-2.06-.94 2.06-2.06.94zm-11 1L8.5 8.5l.94-2.06 2.06-.94-2.06-.94L8.5 2.5l-.94 2.06-2.06.94zm10 10l.94 2.06.94-2.06 2.06-.94-2.06-.94-.94-2.06-.94 2.06-2.06.94z\"/><path d=\"M17.41 7.96l-1.37-1.37c-.4-.4-.92-.59-1.43-.59-.52 0-1.04.2-1.43.59L10.3 9.45l-7.72 7.72c-.78.78-.78 2.05 0 2.83L4 21.41c.39.39.9.59 1.41.59.51 0 1.02-.2 1.41-.59l7.78-7.78 2.81-2.81c.8-.78.8-2.07 0-2.86zM5.41 20L4 18.59l7.72-7.72 1.47 1.35L5.41 20z\"/>\n",
              "  </svg>\n",
              "      </button>\n",
              "      \n",
              "  <style>\n",
              "    .colab-df-container {\n",
              "      display:flex;\n",
              "      flex-wrap:wrap;\n",
              "      gap: 12px;\n",
              "    }\n",
              "\n",
              "    .colab-df-convert {\n",
              "      background-color: #E8F0FE;\n",
              "      border: none;\n",
              "      border-radius: 50%;\n",
              "      cursor: pointer;\n",
              "      display: none;\n",
              "      fill: #1967D2;\n",
              "      height: 32px;\n",
              "      padding: 0 0 0 0;\n",
              "      width: 32px;\n",
              "    }\n",
              "\n",
              "    .colab-df-convert:hover {\n",
              "      background-color: #E2EBFA;\n",
              "      box-shadow: 0px 1px 2px rgba(60, 64, 67, 0.3), 0px 1px 3px 1px rgba(60, 64, 67, 0.15);\n",
              "      fill: #174EA6;\n",
              "    }\n",
              "\n",
              "    [theme=dark] .colab-df-convert {\n",
              "      background-color: #3B4455;\n",
              "      fill: #D2E3FC;\n",
              "    }\n",
              "\n",
              "    [theme=dark] .colab-df-convert:hover {\n",
              "      background-color: #434B5C;\n",
              "      box-shadow: 0px 1px 3px 1px rgba(0, 0, 0, 0.15);\n",
              "      filter: drop-shadow(0px 1px 2px rgba(0, 0, 0, 0.3));\n",
              "      fill: #FFFFFF;\n",
              "    }\n",
              "  </style>\n",
              "\n",
              "      <script>\n",
              "        const buttonEl =\n",
              "          document.querySelector('#df-b79fc54a-4770-4250-8154-168b57df151e button.colab-df-convert');\n",
              "        buttonEl.style.display =\n",
              "          google.colab.kernel.accessAllowed ? 'block' : 'none';\n",
              "\n",
              "        async function convertToInteractive(key) {\n",
              "          const element = document.querySelector('#df-b79fc54a-4770-4250-8154-168b57df151e');\n",
              "          const dataTable =\n",
              "            await google.colab.kernel.invokeFunction('convertToInteractive',\n",
              "                                                     [key], {});\n",
              "          if (!dataTable) return;\n",
              "\n",
              "          const docLinkHtml = 'Like what you see? Visit the ' +\n",
              "            '<a target=\"_blank\" href=https://colab.research.google.com/notebooks/data_table.ipynb>data table notebook</a>'\n",
              "            + ' to learn more about interactive tables.';\n",
              "          element.innerHTML = '';\n",
              "          dataTable['output_type'] = 'display_data';\n",
              "          await google.colab.output.renderOutput(dataTable, element);\n",
              "          const docLink = document.createElement('div');\n",
              "          docLink.innerHTML = docLinkHtml;\n",
              "          element.appendChild(docLink);\n",
              "        }\n",
              "      </script>\n",
              "    </div>\n",
              "  </div>\n",
              "  "
            ],
            "text/plain": [
              "           event_time event_type    brand   price    user_id    category  \\\n",
              "0 2019-10-01 03:36:06   purchase  ariston   84.69  514732891  smartphone   \n",
              "1 2019-10-01 04:07:44   purchase  ariston  133.82  515798665  smartphone   \n",
              "2 2019-10-01 04:43:16   purchase  thermex  115.75  518045212  smartphone   \n",
              "\n",
              "   event_weekday  activity_count       income  age marriage_status profession  \\\n",
              "0              1            21.0   312.415297   23          single  Physician   \n",
              "1              1             4.0  1814.950879   40          single  Physician   \n",
              "2              1             3.0   956.489912   66         married  Physician   \n",
              "\n",
              "       country  year    month      day  \n",
              "0  South Korea  2019  October  Tuesday  \n",
              "1          USA  2019  October  Tuesday  \n",
              "2        India  2019  October  Tuesday  "
            ]
          },
          "execution_count": 33,
          "metadata": {},
          "output_type": "execute_result"
        }
      ],
      "source": [
        "data.head(3)"
      ]
    },
    {
      "cell_type": "markdown",
      "metadata": {
        "id": "q2kMW5kOhMAr"
      },
      "source": [
        "- The new columns has been added and we can then drop the now redundant column event_time and event_weekday column which is a repetition  of the day column"
      ]
    },
    {
      "cell_type": "code",
      "execution_count": null,
      "metadata": {
        "id": "qvotVhU6hG3P"
      },
      "outputs": [],
      "source": [
        "data = data.drop(['event_time', 'event_weekday'], axis = 1)"
      ]
    },
    {
      "cell_type": "code",
      "execution_count": null,
      "metadata": {
        "colab": {
          "base_uri": "https://localhost:8080/"
        },
        "id": "VMD73IQkhVEG",
        "outputId": "9e0472a0-38c8-42cc-b1c7-a047081ccdf5"
      },
      "outputs": [
        {
          "data": {
            "text/plain": [
              "array(['October'], dtype=object)"
            ]
          },
          "execution_count": 35,
          "metadata": {},
          "output_type": "execute_result"
        }
      ],
      "source": [
        "data['month'].unique()"
      ]
    },
    {
      "cell_type": "markdown",
      "metadata": {
        "id": "4IOqCPwMhb1q"
      },
      "source": [
        "- The whole event happened in october and hence the month column can be dropped as it won't give the model any information"
      ]
    },
    {
      "cell_type": "code",
      "execution_count": null,
      "metadata": {
        "id": "mzQTzn6Lhd04"
      },
      "outputs": [],
      "source": [
        "data = data.drop('month', axis =1) #dropping the month column"
      ]
    },
    {
      "cell_type": "code",
      "execution_count": null,
      "metadata": {
        "colab": {
          "base_uri": "https://localhost:8080/"
        },
        "id": "41BHgwcBhmVA",
        "outputId": "0de813b4-5560-4c36-fda6-3193b4d39bee"
      },
      "outputs": [
        {
          "data": {
            "text/plain": [
              "array(['Tuesday', 'Wednesday', 'Thursday', 'Friday', 'Saturday', 'Sunday',\n",
              "       'Monday'], dtype=object)"
            ]
          },
          "execution_count": 37,
          "metadata": {},
          "output_type": "execute_result"
        }
      ],
      "source": [
        "data['day'].unique()"
      ]
    },
    {
      "cell_type": "markdown",
      "metadata": {
        "id": "k3cfZLA7hdU6"
      },
      "source": [
        "The **day** column contains all the days in the week"
      ]
    },
    {
      "cell_type": "code",
      "execution_count": null,
      "metadata": {
        "colab": {
          "base_uri": "https://localhost:8080/",
          "height": 206
        },
        "id": "Y6428bEehxkU",
        "outputId": "b1b82f36-e253-44e6-866c-c970ca152e28"
      },
      "outputs": [
        {
          "data": {
            "text/html": [
              "\n",
              "  <div id=\"df-3703bea3-71ae-43f0-a4a0-47c9e4277bb7\">\n",
              "    <div class=\"colab-df-container\">\n",
              "      <div>\n",
              "<style scoped>\n",
              "    .dataframe tbody tr th:only-of-type {\n",
              "        vertical-align: middle;\n",
              "    }\n",
              "\n",
              "    .dataframe tbody tr th {\n",
              "        vertical-align: top;\n",
              "    }\n",
              "\n",
              "    .dataframe thead th {\n",
              "        text-align: right;\n",
              "    }\n",
              "</style>\n",
              "<table border=\"1\" class=\"dataframe\">\n",
              "  <thead>\n",
              "    <tr style=\"text-align: right;\">\n",
              "      <th></th>\n",
              "      <th>event_type</th>\n",
              "      <th>brand</th>\n",
              "      <th>price</th>\n",
              "      <th>user_id</th>\n",
              "      <th>category</th>\n",
              "      <th>activity_count</th>\n",
              "      <th>income</th>\n",
              "      <th>age</th>\n",
              "      <th>marriage_status</th>\n",
              "      <th>profession</th>\n",
              "      <th>country</th>\n",
              "      <th>year</th>\n",
              "      <th>day</th>\n",
              "    </tr>\n",
              "  </thead>\n",
              "  <tbody>\n",
              "    <tr>\n",
              "      <th>0</th>\n",
              "      <td>purchase</td>\n",
              "      <td>ariston</td>\n",
              "      <td>84.69</td>\n",
              "      <td>514732891</td>\n",
              "      <td>smartphone</td>\n",
              "      <td>21.0</td>\n",
              "      <td>312.415297</td>\n",
              "      <td>23</td>\n",
              "      <td>single</td>\n",
              "      <td>Physician</td>\n",
              "      <td>South Korea</td>\n",
              "      <td>2019</td>\n",
              "      <td>Tuesday</td>\n",
              "    </tr>\n",
              "    <tr>\n",
              "      <th>1</th>\n",
              "      <td>purchase</td>\n",
              "      <td>ariston</td>\n",
              "      <td>133.82</td>\n",
              "      <td>515798665</td>\n",
              "      <td>smartphone</td>\n",
              "      <td>4.0</td>\n",
              "      <td>1814.950879</td>\n",
              "      <td>40</td>\n",
              "      <td>single</td>\n",
              "      <td>Physician</td>\n",
              "      <td>USA</td>\n",
              "      <td>2019</td>\n",
              "      <td>Tuesday</td>\n",
              "    </tr>\n",
              "    <tr>\n",
              "      <th>2</th>\n",
              "      <td>purchase</td>\n",
              "      <td>thermex</td>\n",
              "      <td>115.75</td>\n",
              "      <td>518045212</td>\n",
              "      <td>smartphone</td>\n",
              "      <td>3.0</td>\n",
              "      <td>956.489912</td>\n",
              "      <td>66</td>\n",
              "      <td>married</td>\n",
              "      <td>Physician</td>\n",
              "      <td>India</td>\n",
              "      <td>2019</td>\n",
              "      <td>Tuesday</td>\n",
              "    </tr>\n",
              "    <tr>\n",
              "      <th>3</th>\n",
              "      <td>purchase</td>\n",
              "      <td>ariston</td>\n",
              "      <td>103.18</td>\n",
              "      <td>514008577</td>\n",
              "      <td>smartphone</td>\n",
              "      <td>16.0</td>\n",
              "      <td>1499.125653</td>\n",
              "      <td>41</td>\n",
              "      <td>single</td>\n",
              "      <td>Physician</td>\n",
              "      <td>Mexico</td>\n",
              "      <td>2019</td>\n",
              "      <td>Tuesday</td>\n",
              "    </tr>\n",
              "    <tr>\n",
              "      <th>4</th>\n",
              "      <td>purchase</td>\n",
              "      <td>ariston</td>\n",
              "      <td>105.68</td>\n",
              "      <td>513400739</td>\n",
              "      <td>smartphone</td>\n",
              "      <td>10.0</td>\n",
              "      <td>1382.295251</td>\n",
              "      <td>47</td>\n",
              "      <td>single</td>\n",
              "      <td>Physician</td>\n",
              "      <td>France</td>\n",
              "      <td>2019</td>\n",
              "      <td>Tuesday</td>\n",
              "    </tr>\n",
              "  </tbody>\n",
              "</table>\n",
              "</div>\n",
              "      <button class=\"colab-df-convert\" onclick=\"convertToInteractive('df-3703bea3-71ae-43f0-a4a0-47c9e4277bb7')\"\n",
              "              title=\"Convert this dataframe to an interactive table.\"\n",
              "              style=\"display:none;\">\n",
              "        \n",
              "  <svg xmlns=\"http://www.w3.org/2000/svg\" height=\"24px\"viewBox=\"0 0 24 24\"\n",
              "       width=\"24px\">\n",
              "    <path d=\"M0 0h24v24H0V0z\" fill=\"none\"/>\n",
              "    <path d=\"M18.56 5.44l.94 2.06.94-2.06 2.06-.94-2.06-.94-.94-2.06-.94 2.06-2.06.94zm-11 1L8.5 8.5l.94-2.06 2.06-.94-2.06-.94L8.5 2.5l-.94 2.06-2.06.94zm10 10l.94 2.06.94-2.06 2.06-.94-2.06-.94-.94-2.06-.94 2.06-2.06.94z\"/><path d=\"M17.41 7.96l-1.37-1.37c-.4-.4-.92-.59-1.43-.59-.52 0-1.04.2-1.43.59L10.3 9.45l-7.72 7.72c-.78.78-.78 2.05 0 2.83L4 21.41c.39.39.9.59 1.41.59.51 0 1.02-.2 1.41-.59l7.78-7.78 2.81-2.81c.8-.78.8-2.07 0-2.86zM5.41 20L4 18.59l7.72-7.72 1.47 1.35L5.41 20z\"/>\n",
              "  </svg>\n",
              "      </button>\n",
              "      \n",
              "  <style>\n",
              "    .colab-df-container {\n",
              "      display:flex;\n",
              "      flex-wrap:wrap;\n",
              "      gap: 12px;\n",
              "    }\n",
              "\n",
              "    .colab-df-convert {\n",
              "      background-color: #E8F0FE;\n",
              "      border: none;\n",
              "      border-radius: 50%;\n",
              "      cursor: pointer;\n",
              "      display: none;\n",
              "      fill: #1967D2;\n",
              "      height: 32px;\n",
              "      padding: 0 0 0 0;\n",
              "      width: 32px;\n",
              "    }\n",
              "\n",
              "    .colab-df-convert:hover {\n",
              "      background-color: #E2EBFA;\n",
              "      box-shadow: 0px 1px 2px rgba(60, 64, 67, 0.3), 0px 1px 3px 1px rgba(60, 64, 67, 0.15);\n",
              "      fill: #174EA6;\n",
              "    }\n",
              "\n",
              "    [theme=dark] .colab-df-convert {\n",
              "      background-color: #3B4455;\n",
              "      fill: #D2E3FC;\n",
              "    }\n",
              "\n",
              "    [theme=dark] .colab-df-convert:hover {\n",
              "      background-color: #434B5C;\n",
              "      box-shadow: 0px 1px 3px 1px rgba(0, 0, 0, 0.15);\n",
              "      filter: drop-shadow(0px 1px 2px rgba(0, 0, 0, 0.3));\n",
              "      fill: #FFFFFF;\n",
              "    }\n",
              "  </style>\n",
              "\n",
              "      <script>\n",
              "        const buttonEl =\n",
              "          document.querySelector('#df-3703bea3-71ae-43f0-a4a0-47c9e4277bb7 button.colab-df-convert');\n",
              "        buttonEl.style.display =\n",
              "          google.colab.kernel.accessAllowed ? 'block' : 'none';\n",
              "\n",
              "        async function convertToInteractive(key) {\n",
              "          const element = document.querySelector('#df-3703bea3-71ae-43f0-a4a0-47c9e4277bb7');\n",
              "          const dataTable =\n",
              "            await google.colab.kernel.invokeFunction('convertToInteractive',\n",
              "                                                     [key], {});\n",
              "          if (!dataTable) return;\n",
              "\n",
              "          const docLinkHtml = 'Like what you see? Visit the ' +\n",
              "            '<a target=\"_blank\" href=https://colab.research.google.com/notebooks/data_table.ipynb>data table notebook</a>'\n",
              "            + ' to learn more about interactive tables.';\n",
              "          element.innerHTML = '';\n",
              "          dataTable['output_type'] = 'display_data';\n",
              "          await google.colab.output.renderOutput(dataTable, element);\n",
              "          const docLink = document.createElement('div');\n",
              "          docLink.innerHTML = docLinkHtml;\n",
              "          element.appendChild(docLink);\n",
              "        }\n",
              "      </script>\n",
              "    </div>\n",
              "  </div>\n",
              "  "
            ],
            "text/plain": [
              "  event_type    brand   price    user_id    category  activity_count  \\\n",
              "0   purchase  ariston   84.69  514732891  smartphone            21.0   \n",
              "1   purchase  ariston  133.82  515798665  smartphone             4.0   \n",
              "2   purchase  thermex  115.75  518045212  smartphone             3.0   \n",
              "3   purchase  ariston  103.18  514008577  smartphone            16.0   \n",
              "4   purchase  ariston  105.68  513400739  smartphone            10.0   \n",
              "\n",
              "        income  age marriage_status profession      country  year      day  \n",
              "0   312.415297   23          single  Physician  South Korea  2019  Tuesday  \n",
              "1  1814.950879   40          single  Physician          USA  2019  Tuesday  \n",
              "2   956.489912   66         married  Physician        India  2019  Tuesday  \n",
              "3  1499.125653   41          single  Physician       Mexico  2019  Tuesday  \n",
              "4  1382.295251   47          single  Physician       France  2019  Tuesday  "
            ]
          },
          "execution_count": 38,
          "metadata": {},
          "output_type": "execute_result"
        }
      ],
      "source": [
        "data.head()"
      ]
    },
    {
      "cell_type": "code",
      "execution_count": null,
      "metadata": {
        "colab": {
          "base_uri": "https://localhost:8080/"
        },
        "id": "S2T9mRqAhxTn",
        "outputId": "cc7c31b3-508d-4520-a455-07433091092d"
      },
      "outputs": [
        {
          "data": {
            "text/plain": [
              "array([2019])"
            ]
          },
          "execution_count": 39,
          "metadata": {},
          "output_type": "execute_result"
        }
      ],
      "source": [
        "data['year'].unique()"
      ]
    },
    {
      "cell_type": "code",
      "execution_count": null,
      "metadata": {
        "id": "SBNbK922hxBx"
      },
      "outputs": [],
      "source": [
        "data = data.drop('year', axis =1) #dropping the year column"
      ]
    },
    {
      "cell_type": "markdown",
      "metadata": {
        "id": "P2FlGPIJiMOU"
      },
      "source": [
        "The whole event also happened in 2019 and hence the year column can be dropped as it won't give the model any information"
      ]
    },
    {
      "cell_type": "markdown",
      "metadata": {
        "id": "ZzLefj6niSc4"
      },
      "source": [
        "### Further Analysis"
      ]
    },
    {
      "cell_type": "code",
      "execution_count": null,
      "metadata": {
        "colab": {
          "base_uri": "https://localhost:8080/",
          "height": 457
        },
        "id": "vKaZYSqRiHaL",
        "outputId": "40b8f3ed-93f2-472d-f84a-b24e4fc5eb71"
      },
      "outputs": [
        {
          "data": {
            "image/png": "[encoded data removed]",
            "text/plain": [
              "<Figure size 1008x504 with 1 Axes>"
            ]
          },
          "metadata": {},
          "output_type": "display_data"
        }
      ],
      "source": [
        "plt.figure(figsize = (14, 7))\n",
        "sns.countplot(data['day']).set_title(\"Engagament Per Day\")\n",
        "plt.show()"
      ]
    },
    {
      "cell_type": "markdown",
      "metadata": {
        "id": "GH9CJ68UifOD"
      },
      "source": [
        "- The day with the highest engagement is Friday followed by Thursday and the least in Monday. This could be due to the fact that there is always much workload on mondays been the first workday of the week and hence, there will be less time for shopping."
      ]
    },
    {
      "cell_type": "code",
      "execution_count": null,
      "metadata": {
        "colab": {
          "base_uri": "https://localhost:8080/"
        },
        "id": "OEhOnuIFikqe",
        "outputId": "672571d0-04eb-49e1-828e-c0a7b677db6e"
      },
      "outputs": [
        {
          "data": {
            "text/plain": [
              "samsung    3914\n",
              "Name: brand, dtype: int64"
            ]
          },
          "execution_count": 42,
          "metadata": {},
          "output_type": "execute_result"
        }
      ],
      "source": [
        "#Checking for the brand that has highest engagement on friday\n",
        "\n",
        "data[data['day'] == 'Friday']['brand'].value_counts()[[0]]"
      ]
    },
    {
      "cell_type": "markdown",
      "metadata": {
        "id": "Ju7ynmIcixr7"
      },
      "source": [
        "- As expected, samsumg products has the highest engagement on friday"
      ]
    },
    {
      "cell_type": "code",
      "execution_count": null,
      "metadata": {
        "colab": {
          "base_uri": "https://localhost:8080/"
        },
        "id": "yfVkh9LUikOi",
        "outputId": "8d0c00c3-9059-4eec-fd9e-4829dec1abc7"
      },
      "outputs": [
        {
          "data": {
            "text/plain": [
              "samsung    150\n",
              "Name: brand, dtype: int64"
            ]
          },
          "execution_count": 43,
          "metadata": {},
          "output_type": "execute_result"
        }
      ],
      "source": [
        "#Checking for the product that was mostly bought on fridays been the day with highest engagement\n",
        "\n",
        "bof = data[data['day'] == 'Friday']\n",
        "pof = bof[bof['event_type'] == 'purchase']\n",
        "\n",
        "pof['brand'].value_counts()[[0]]"
      ]
    },
    {
      "cell_type": "markdown",
      "metadata": {
        "id": "XG6JrbXAi-ku"
      },
      "source": [
        "**Samsung** products is the highest products bought bought on friday "
      ]
    },
    {
      "cell_type": "code",
      "execution_count": null,
      "metadata": {
        "colab": {
          "base_uri": "https://localhost:8080/"
        },
        "id": "XaKLouj-i-Aw",
        "outputId": "a72f639d-5dfc-4237-9330-1436e8499345"
      },
      "outputs": [
        {
          "name": "stdout",
          "output_type": "stream",
          "text": [
            "The highest activity count is 172.0\n"
          ]
        }
      ],
      "source": [
        "hac = data['activity_count'].max() #checking for the highest value in the activity_count column\n",
        "\n",
        "print(f\"The highest activity count is {hac}\")"
      ]
    },
    {
      "cell_type": "code",
      "execution_count": null,
      "metadata": {
        "colab": {
          "base_uri": "https://localhost:8080/",
          "height": 175
        },
        "id": "Uvz5B1w-ihuy",
        "outputId": "f22d2886-89e7-4848-db58-7ff08ca9a36f"
      },
      "outputs": [
        {
          "data": {
            "text/html": [
              "\n",
              "  <div id=\"df-c939d856-5de8-4ebf-a5c7-52c88237a63d\">\n",
              "    <div class=\"colab-df-container\">\n",
              "      <div>\n",
              "<style scoped>\n",
              "    .dataframe tbody tr th:only-of-type {\n",
              "        vertical-align: middle;\n",
              "    }\n",
              "\n",
              "    .dataframe tbody tr th {\n",
              "        vertical-align: top;\n",
              "    }\n",
              "\n",
              "    .dataframe thead th {\n",
              "        text-align: right;\n",
              "    }\n",
              "</style>\n",
              "<table border=\"1\" class=\"dataframe\">\n",
              "  <thead>\n",
              "    <tr style=\"text-align: right;\">\n",
              "      <th></th>\n",
              "      <th>event_type</th>\n",
              "      <th>brand</th>\n",
              "      <th>price</th>\n",
              "      <th>user_id</th>\n",
              "      <th>category</th>\n",
              "      <th>activity_count</th>\n",
              "      <th>income</th>\n",
              "      <th>age</th>\n",
              "      <th>marriage_status</th>\n",
              "      <th>profession</th>\n",
              "      <th>country</th>\n",
              "      <th>day</th>\n",
              "    </tr>\n",
              "  </thead>\n",
              "  <tbody>\n",
              "    <tr>\n",
              "      <th>15099</th>\n",
              "      <td>view</td>\n",
              "      <td>samsung</td>\n",
              "      <td>254.76</td>\n",
              "      <td>513322839</td>\n",
              "      <td>smartphone</td>\n",
              "      <td>172.0</td>\n",
              "      <td>1368.686682</td>\n",
              "      <td>21</td>\n",
              "      <td>single</td>\n",
              "      <td>Psychologist</td>\n",
              "      <td>China</td>\n",
              "      <td>Tuesday</td>\n",
              "    </tr>\n",
              "    <tr>\n",
              "      <th>15128</th>\n",
              "      <td>view</td>\n",
              "      <td>samsung</td>\n",
              "      <td>130.76</td>\n",
              "      <td>513322839</td>\n",
              "      <td>smartphone</td>\n",
              "      <td>172.0</td>\n",
              "      <td>966.090478</td>\n",
              "      <td>35</td>\n",
              "      <td>single</td>\n",
              "      <td>Psychologist</td>\n",
              "      <td>UK</td>\n",
              "      <td>Tuesday</td>\n",
              "    </tr>\n",
              "    <tr>\n",
              "      <th>32071</th>\n",
              "      <td>view</td>\n",
              "      <td>samsung</td>\n",
              "      <td>230.64</td>\n",
              "      <td>513322839</td>\n",
              "      <td>smartphone</td>\n",
              "      <td>172.0</td>\n",
              "      <td>1644.154167</td>\n",
              "      <td>42</td>\n",
              "      <td>single</td>\n",
              "      <td>Air Traffic Controller</td>\n",
              "      <td>UK</td>\n",
              "      <td>Thursday</td>\n",
              "    </tr>\n",
              "    <tr>\n",
              "      <th>32079</th>\n",
              "      <td>view</td>\n",
              "      <td>samsung</td>\n",
              "      <td>198.20</td>\n",
              "      <td>513322839</td>\n",
              "      <td>smartphone</td>\n",
              "      <td>172.0</td>\n",
              "      <td>2315.516845</td>\n",
              "      <td>71</td>\n",
              "      <td>single</td>\n",
              "      <td>Air Traffic Controller</td>\n",
              "      <td>France</td>\n",
              "      <td>Thursday</td>\n",
              "    </tr>\n",
              "  </tbody>\n",
              "</table>\n",
              "</div>\n",
              "      <button class=\"colab-df-convert\" onclick=\"convertToInteractive('df-c939d856-5de8-4ebf-a5c7-52c88237a63d')\"\n",
              "              title=\"Convert this dataframe to an interactive table.\"\n",
              "              style=\"display:none;\">\n",
              "        \n",
              "  <svg xmlns=\"http://www.w3.org/2000/svg\" height=\"24px\"viewBox=\"0 0 24 24\"\n",
              "       width=\"24px\">\n",
              "    <path d=\"M0 0h24v24H0V0z\" fill=\"none\"/>\n",
              "    <path d=\"M18.56 5.44l.94 2.06.94-2.06 2.06-.94-2.06-.94-.94-2.06-.94 2.06-2.06.94zm-11 1L8.5 8.5l.94-2.06 2.06-.94-2.06-.94L8.5 2.5l-.94 2.06-2.06.94zm10 10l.94 2.06.94-2.06 2.06-.94-2.06-.94-.94-2.06-.94 2.06-2.06.94z\"/><path d=\"M17.41 7.96l-1.37-1.37c-.4-.4-.92-.59-1.43-.59-.52 0-1.04.2-1.43.59L10.3 9.45l-7.72 7.72c-.78.78-.78 2.05 0 2.83L4 21.41c.39.39.9.59 1.41.59.51 0 1.02-.2 1.41-.59l7.78-7.78 2.81-2.81c.8-.78.8-2.07 0-2.86zM5.41 20L4 18.59l7.72-7.72 1.47 1.35L5.41 20z\"/>\n",
              "  </svg>\n",
              "      </button>\n",
              "      \n",
              "  <style>\n",
              "    .colab-df-container {\n",
              "      display:flex;\n",
              "      flex-wrap:wrap;\n",
              "      gap: 12px;\n",
              "    }\n",
              "\n",
              "    .colab-df-convert {\n",
              "      background-color: #E8F0FE;\n",
              "      border: none;\n",
              "      border-radius: 50%;\n",
              "      cursor: pointer;\n",
              "      display: none;\n",
              "      fill: #1967D2;\n",
              "      height: 32px;\n",
              "      padding: 0 0 0 0;\n",
              "      width: 32px;\n",
              "    }\n",
              "\n",
              "    .colab-df-convert:hover {\n",
              "      background-color: #E2EBFA;\n",
              "      box-shadow: 0px 1px 2px rgba(60, 64, 67, 0.3), 0px 1px 3px 1px rgba(60, 64, 67, 0.15);\n",
              "      fill: #174EA6;\n",
              "    }\n",
              "\n",
              "    [theme=dark] .colab-df-convert {\n",
              "      background-color: #3B4455;\n",
              "      fill: #D2E3FC;\n",
              "    }\n",
              "\n",
              "    [theme=dark] .colab-df-convert:hover {\n",
              "      background-color: #434B5C;\n",
              "      box-shadow: 0px 1px 3px 1px rgba(0, 0, 0, 0.15);\n",
              "      filter: drop-shadow(0px 1px 2px rgba(0, 0, 0, 0.3));\n",
              "      fill: #FFFFFF;\n",
              "    }\n",
              "  </style>\n",
              "\n",
              "      <script>\n",
              "        const buttonEl =\n",
              "          document.querySelector('#df-c939d856-5de8-4ebf-a5c7-52c88237a63d button.colab-df-convert');\n",
              "        buttonEl.style.display =\n",
              "          google.colab.kernel.accessAllowed ? 'block' : 'none';\n",
              "\n",
              "        async function convertToInteractive(key) {\n",
              "          const element = document.querySelector('#df-c939d856-5de8-4ebf-a5c7-52c88237a63d');\n",
              "          const dataTable =\n",
              "            await google.colab.kernel.invokeFunction('convertToInteractive',\n",
              "                                                     [key], {});\n",
              "          if (!dataTable) return;\n",
              "\n",
              "          const docLinkHtml = 'Like what you see? Visit the ' +\n",
              "            '<a target=\"_blank\" href=https://colab.research.google.com/notebooks/data_table.ipynb>data table notebook</a>'\n",
              "            + ' to learn more about interactive tables.';\n",
              "          element.innerHTML = '';\n",
              "          dataTable['output_type'] = 'display_data';\n",
              "          await google.colab.output.renderOutput(dataTable, element);\n",
              "          const docLink = document.createElement('div');\n",
              "          docLink.innerHTML = docLinkHtml;\n",
              "          element.appendChild(docLink);\n",
              "        }\n",
              "      </script>\n",
              "    </div>\n",
              "  </div>\n",
              "  "
            ],
            "text/plain": [
              "      event_type    brand   price    user_id    category  activity_count  \\\n",
              "15099       view  samsung  254.76  513322839  smartphone           172.0   \n",
              "15128       view  samsung  130.76  513322839  smartphone           172.0   \n",
              "32071       view  samsung  230.64  513322839  smartphone           172.0   \n",
              "32079       view  samsung  198.20  513322839  smartphone           172.0   \n",
              "\n",
              "            income  age marriage_status              profession country  \\\n",
              "15099  1368.686682   21          single            Psychologist   China   \n",
              "15128   966.090478   35          single            Psychologist      UK   \n",
              "32071  1644.154167   42          single  Air Traffic Controller      UK   \n",
              "32079  2315.516845   71          single  Air Traffic Controller  France   \n",
              "\n",
              "            day  \n",
              "15099   Tuesday  \n",
              "15128   Tuesday  \n",
              "32071  Thursday  \n",
              "32079  Thursday  "
            ]
          },
          "execution_count": 45,
          "metadata": {},
          "output_type": "execute_result"
        }
      ],
      "source": [
        "#Check for the days when this high activity count occur\n",
        "\n",
        "data[data['activity_count'] == 172.0]"
      ]
    },
    {
      "cell_type": "markdown",
      "metadata": {
        "id": "AxBi0Ur5jzbt"
      },
      "source": [
        "- High activity happen on **Tuesday** and **Thursday**,\n",
        "- Event_type **view** meaning the customers only view alot of **samsung**(brand is samsung) products on **Tuesday** and **Thursday**\n",
        "- Marriage Status **Single** \n",
        "-Profession of those visitors are **Psychologist** and **Air Traffic Controller**\n",
        "- Countries: **China**, **France\t** and **UK** "
      ]
    },
    {
      "cell_type": "code",
      "execution_count": null,
      "metadata": {
        "colab": {
          "base_uri": "https://localhost:8080/"
        },
        "id": "kfgQsFcXihjG",
        "outputId": "232a6e63-856e-435d-a794-b017564a7a04"
      },
      "outputs": [
        {
          "name": "stdout",
          "output_type": "stream",
          "text": [
            "The country with the highest purchases is China\n",
            "\n",
            "The country with the highest carts is China\n",
            "\n",
            "Age 72 is the age that buys more products\n",
            "\n",
            "Age 68 is the age that Carts more products\n",
            "\n",
            "The Profession with the highest purchases is Physician\n",
            "\n",
            "The Profession with the highest carts is Magistrate\n",
            "\n"
          ]
        }
      ],
      "source": [
        "#Location with the highest purchases\n",
        "\n",
        "print(f\"The country with the highest purchases is {str(data[data['event_type'] == 'purchase']['country'].value_counts()[[0]]).split()[0]}\\n\")\n",
        "print(f\"The country with the highest carts is {str(data[data['event_type'] == 'cart']['country'].value_counts()[[0]]).split()[0]}\\n\")\n",
        "print(f\"Age {str(data[data['event_type'] == 'purchase']['age'].value_counts().iloc[[0]]).split()[0]} is the age that buys more products\\n\")\n",
        "print(f\"Age {str(data[data['event_type'] == 'cart']['age'].value_counts().iloc[[0]]).split()[0]} is the age that Carts more products\\n\")\n",
        "print(f\"The Profession with the highest purchases is {str(data[data['event_type'] == 'purchase']['profession'].value_counts()[[0]]).split()[0]}\\n\")\n",
        "print(f\"The Profession with the highest carts is {str(data[data['event_type'] == 'cart']['profession'].value_counts()[[0]]).split()[0]}\\n\")"
      ]
    },
    {
      "cell_type": "markdown",
      "metadata": {
        "id": "HRxsslutu474"
      },
      "source": [
        "### Further preprocessing"
      ]
    },
    {
      "cell_type": "code",
      "execution_count": null,
      "metadata": {
        "colab": {
          "base_uri": "https://localhost:8080/"
        },
        "id": "seUCD2Bmu4TQ",
        "outputId": "7739ac52-3808-4781-cef1-f6669bbcd5ae"
      },
      "outputs": [
        {
          "data": {
            "text/plain": [
              "array(['ariston', 'thermex', 'artel', 'aqua', 'shivaki', 'garanterm',\n",
              "       'klima', 'midea', 'haier', 'rinnai', 'electrolux', 'teploross',\n",
              "       'regent', 'fresh', 'acer', 'apple', 'lenovo', 'asus', 'hp',\n",
              "       'deepcool', 'dell', 'xiaomi', 'dreammachines', 'samsung', 'huawei',\n",
              "       'meizu', 'nokia', 'oppo', 'vivo', 'sony', 'jinga', 'oneplus',\n",
              "       'prestigio', 'inoi', 'bq', 'doogee', 'nubia'], dtype=object)"
            ]
          },
          "execution_count": 47,
          "metadata": {},
          "output_type": "execute_result"
        }
      ],
      "source": [
        "data['brand'].unique()"
      ]
    },
    {
      "cell_type": "code",
      "execution_count": null,
      "metadata": {
        "colab": {
          "base_uri": "https://localhost:8080/"
        },
        "id": "tHQLVryOvDWU",
        "outputId": "b2e17f0b-4983-4550-dd92-62fed042f67e"
      },
      "outputs": [
        {
          "data": {
            "text/plain": [
              "samsung          14387\n",
              "apple            12753\n",
              "acer              6145\n",
              "xiaomi            3736\n",
              "huawei            2492\n",
              "ariston           1537\n",
              "asus              1502\n",
              "lenovo            1483\n",
              "oppo              1049\n",
              "hp                 947\n",
              "haier              302\n",
              "aqua               238\n",
              "thermex            188\n",
              "vivo               184\n",
              "electrolux          84\n",
              "teploross           76\n",
              "dell                75\n",
              "meizu               60\n",
              "artel               55\n",
              "nokia               52\n",
              "klima               29\n",
              "deepcool            23\n",
              "sony                15\n",
              "prestigio           15\n",
              "oneplus             12\n",
              "midea               10\n",
              "garanterm           10\n",
              "bq                   5\n",
              "jinga                4\n",
              "dreammachines        3\n",
              "rinnai               3\n",
              "inoi                 2\n",
              "shivaki              2\n",
              "fresh                1\n",
              "regent               1\n",
              "doogee               1\n",
              "nubia                1\n",
              "Name: brand, dtype: int64"
            ]
          },
          "execution_count": 48,
          "metadata": {},
          "output_type": "execute_result"
        }
      ],
      "source": [
        "data['brand'].value_counts()"
      ]
    },
    {
      "cell_type": "markdown",
      "metadata": {
        "id": "jmzUeyEUvhZY"
      },
      "source": [
        "To get a better prediction, we are only going to work with the top brands with highest engagement and replace the other brands with others since they are small and negligible. \n",
        "\n",
        "\n",
        "\n"
      ]
    },
    {
      "cell_type": "code",
      "execution_count": null,
      "metadata": {
        "colab": {
          "base_uri": "https://localhost:8080/"
        },
        "id": "t5sEB13WwBFP",
        "outputId": "eee577ff-954d-4dbe-d7a2-c39f63e804c7"
      },
      "outputs": [
        {
          "data": {
            "text/plain": [
              "samsung    14387\n",
              "apple      12753\n",
              "acer        6145\n",
              "xiaomi      3736\n",
              "huawei      2492\n",
              "Name: brand, dtype: int64"
            ]
          },
          "execution_count": 49,
          "metadata": {},
          "output_type": "execute_result"
        }
      ],
      "source": [
        "data['brand'].value_counts()[:5]"
      ]
    },
    {
      "cell_type": "code",
      "execution_count": null,
      "metadata": {
        "id": "tvDQ7_bKvIX0"
      },
      "outputs": [],
      "source": [
        "fet_col = ['samsung', 'apple', 'acer', 'xiaomi', 'huawei']\n",
        "for i in data['brand']:\n",
        "  if i not in fet_col:\n",
        "    data['brand'] = data['brand'].replace(i, 'others')"
      ]
    },
    {
      "cell_type": "code",
      "execution_count": null,
      "metadata": {
        "colab": {
          "base_uri": "https://localhost:8080/"
        },
        "id": "rU6Xey14vfjv",
        "outputId": "a34e8bd2-49d2-4858-ca2b-d1f8ba38da7c"
      },
      "outputs": [
        {
          "data": {
            "text/plain": [
              "array(['others', 'acer', 'apple', 'xiaomi', 'samsung', 'huawei'],\n",
              "      dtype=object)"
            ]
          },
          "execution_count": 51,
          "metadata": {},
          "output_type": "execute_result"
        }
      ],
      "source": [
        "data['brand'].unique()"
      ]
    },
    {
      "cell_type": "markdown",
      "metadata": {
        "id": "85o0Y0lzxAGe"
      },
      "source": [
        "#### Undersampling the dataset\n",
        "\n",
        "We will undersample the dataset to avoid imbalance of the classes which can lead to the model bias(Predicting only one/certain class(es))\n"
      ]
    },
    {
      "cell_type": "code",
      "execution_count": null,
      "metadata": {
        "colab": {
          "base_uri": "https://localhost:8080/"
        },
        "id": "dl-upRuoxTlK",
        "outputId": "655fa5ec-2cd4-4cb8-ca30-0ff63a154c70"
      },
      "outputs": [
        {
          "data": {
            "text/plain": [
              "samsung    2000\n",
              "others     2000\n",
              "apple      2000\n",
              "acer       2000\n",
              "xiaomi     2000\n",
              "huawei     2000\n",
              "Name: brand, dtype: int64"
            ]
          },
          "execution_count": 52,
          "metadata": {},
          "output_type": "execute_result"
        }
      ],
      "source": [
        "#Undersampling the data \n",
        "samsung_set = data[data['brand'] == 'samsung']\n",
        "others_set = data[data['brand'] == 'others']\n",
        "apple_set = data[data['brand'] == 'apple']\n",
        "acer_set = data[data['brand'] == 'acer']\n",
        "xiaomi_set = data[data['brand'] == 'xiaomi']\n",
        "huawei_set = data[data['brand'] == 'huawei']\n",
        "\n",
        "samsung_set_downsampled = samsung_set.sample(2000)\n",
        "others_set_downsampled = others_set.sample(2000)\n",
        "apple_set_downsampled = apple_set.sample(2000)\n",
        "acer_set_downsampled = acer_set.sample(2000)\n",
        "xiaomi_set_downsampled = xiaomi_set.sample(2000)\n",
        "huawei_set_downsampled = huawei_set.sample(2000)\n",
        "\n",
        "ddata = pd.concat([samsung_set_downsampled, others_set_downsampled, apple_set_downsampled, acer_set_downsampled, xiaomi_set_downsampled, huawei_set_downsampled])\n",
        "\n",
        "ddata['brand'].value_counts()"
      ]
    },
    {
      "cell_type": "markdown",
      "metadata": {
        "id": "LrSvWLIAyCW1"
      },
      "source": [
        "- The dataset has been downsampled to contain equal number of each classes\n",
        "- It will also reduced the size of the machine learning model with makes it easy for further computation(deployment).\n"
      ]
    },
    {
      "cell_type": "code",
      "execution_count": null,
      "metadata": {
        "colab": {
          "base_uri": "https://localhost:8080/"
        },
        "id": "xcFzKNeqxSt5",
        "outputId": "5b2756d2-373f-4fc6-c738-4abf20e8108d"
      },
      "outputs": [
        {
          "data": {
            "text/plain": [
              "(12000, 12)"
            ]
          },
          "execution_count": 53,
          "metadata": {},
          "output_type": "execute_result"
        }
      ],
      "source": [
        "ddata.shape"
      ]
    },
    {
      "cell_type": "code",
      "execution_count": null,
      "metadata": {
        "id": "r5SVx3fSy5LY"
      },
      "outputs": [],
      "source": [
        "tdata = ddata.copy()"
      ]
    },
    {
      "cell_type": "code",
      "execution_count": null,
      "metadata": {
        "id": "CyIfXzaQ2ZK2"
      },
      "outputs": [],
      "source": [
        "#Converting categorical values to integer\n",
        "event = {'view': 0, 'cart': 1, 'purchase': 2}\n",
        "tdata['event_type'] = tdata['event_type'].map(event)\n",
        "\n",
        "brand = {'others': 5, 'acer': 3, 'apple': 4, 'xiaomi': 1, 'samsung': 0, 'huawei': 2}\n",
        "tdata['brand'] = tdata['brand'].map(brand)\n",
        "\n",
        "cat = {'smartphone': 1, 'computers': 0}\n",
        "tdata['category'] = tdata['category'].map(cat)\n",
        "\n",
        "marriage = {'married': 1, 'single': 0}\n",
        "tdata['marriage_status'] = tdata['marriage_status'].map(marriage)\n",
        "\n",
        "pro = {'Physician':0, 'Statistician':1, 'Graphic_Designer':2, 'Web Designer':3,\n",
        "       'Psychologist':4, 'Others':5, 'Computer Hardware Engineer':6,\n",
        "       'Software_Developer':7, 'Drafter':8, 'Magistrate':9, 'Fashion Designer':10,\n",
        "       'Biomedical_Engineer':11, 'Air Traffic Controller':12, 'Comedian':13,\n",
        "       'Industrial Engineer':14, 'Mechanical Engineer':15, 'Chemical Engineer':16,\n",
        "       'Technical_writer':17, 'Hotel Manager':18, 'Secretary':19,\n",
        "       'Financial_Analyst':20, 'Flight_attendant':21}\n",
        "tdata['profession'] = tdata['profession'].map(pro)\n",
        "\n",
        "country = {'China':0, 'Germany':1, 'Italy':2, 'Sweden':3, 'Canada':4, 'Mexico':5, 'Japan':6,\n",
        "       'USA':7, 'France':8, 'Spain':9, 'Russia':10, 'Denmark':11, 'UK':12, 'Norway':13,\n",
        "       'India':14, 'Uttarakhand':15, 'Korea':16, 'Austria':17, 'South Korea':18,\n",
        "       'Others':19, 'Saudi Arabia':20, 'Indonesia':21, 'Turkey':22}\n",
        "tdata['country'] = tdata['country'].map(country)\n",
        "\n",
        "day = {'Tuesday':3, 'Thursday':5, 'Friday':6, 'Wednesday':4, 'Saturday':0, 'Monday':2,'Sunday':1}\n",
        "tdata['day'] = tdata['day'].map(day)"
      ]
    },
    {
      "cell_type": "code",
      "execution_count": null,
      "metadata": {
        "colab": {
          "base_uri": "https://localhost:8080/"
        },
        "id": "X-mbKhuEkfAD",
        "outputId": "1bf2fb41-1a87-484b-f59e-d2f9348c6ec8"
      },
      "outputs": [
        {
          "data": {
            "text/plain": [
              "event_type         0\n",
              "brand              0\n",
              "price              0\n",
              "user_id            0\n",
              "category           0\n",
              "activity_count     0\n",
              "income             0\n",
              "age                0\n",
              "marriage_status    0\n",
              "profession         0\n",
              "country            0\n",
              "day                0\n",
              "dtype: int64"
            ]
          },
          "execution_count": 56,
          "metadata": {},
          "output_type": "execute_result"
        }
      ],
      "source": [
        "tdata.isnull().sum()"
      ]
    },
    {
      "cell_type": "markdown",
      "metadata": {
        "id": "zPp7Q3MpcFTA"
      },
      "source": [
        "The data is now ready for training"
      ]
    },
    {
      "cell_type": "code",
      "execution_count": null,
      "metadata": {
        "colab": {
          "background_save": true
        },
        "id": "rl0f8RGq37rQ"
      },
      "outputs": [],
      "source": [
        "# Selecting the dependent and independent variable\n",
        "\n",
        "x = tdata.drop('brand', axis = 1) #independent variables\n",
        "y = tdata['brand'] #dependent variable"
      ]
    },
    {
      "cell_type": "markdown",
      "metadata": {
        "id": "pGL0_noo7GOW"
      },
      "source": [
        "## Modelling Building and Evaluation\n",
        "\n"
      ]
    },
    {
      "cell_type": "code",
      "execution_count": null,
      "metadata": {
        "colab": {
          "background_save": true
        },
        "id": "8U-czNXX66pv"
      },
      "outputs": [],
      "source": [
        "# Splitting the dataset into train and test set\n",
        "x_train, x_test, y_train, y_test = train_test_split(x, y, test_size = 0.1, random_state = 42) "
      ]
    },
    {
      "cell_type": "markdown",
      "metadata": {
        "id": "OEvbuB10VY43"
      },
      "source": [
        "#### Random Forest Classifier\n",
        "Random forest Classifier is a Supervised Machine Learning Algorithm that builds decision trees on different samples and takes their majority vote for classification and average in case of regression. They are mostly used for predicting binary classes but also performs greatly on multiclass prediction."
      ]
    },
    {
      "cell_type": "code",
      "execution_count": null,
      "metadata": {
        "colab": {
          "background_save": true,
          "base_uri": "https://localhost:8080/"
        },
        "id": "RO3WEUAw7WYE",
        "outputId": "a1198792-49ea-41e2-c32c-8c53fb201f58"
      },
      "outputs": [
        {
          "data": {
            "text/plain": [
              "RandomForestClassifier()"
            ]
          },
          "execution_count": 59,
          "metadata": {},
          "output_type": "execute_result"
        }
      ],
      "source": [
        "#Modelling with random forest algorithm\n",
        "rf = RandomForestClassifier()\n",
        "rf.fit(x_train.values, y_train)"
      ]
    },
    {
      "cell_type": "markdown",
      "metadata": {
        "id": "5mVfm-gIayuB"
      },
      "source": [
        "#### Decision Tree Classifier\n",
        "The Decision Tree Classifier creates the classification model by building a decision tree. Each node in the tree specifies a test on an attribute, each branch descending from that node corresponds to one of the possible values for that attribute. They are mostly used for predicting binary classes but also performs greatly on multiclass prediction just like the Random Forest Classifier."
      ]
    },
    {
      "cell_type": "code",
      "execution_count": null,
      "metadata": {
        "colab": {
          "background_save": true,
          "base_uri": "https://localhost:8080/"
        },
        "id": "_Fvcd3jqFLTJ",
        "outputId": "c9c5d072-ef0c-4447-8065-5c49dc8feb9a"
      },
      "outputs": [
        {
          "data": {
            "text/plain": [
              "DecisionTreeClassifier()"
            ]
          },
          "execution_count": 60,
          "metadata": {},
          "output_type": "execute_result"
        }
      ],
      "source": [
        "#Modelling with random forest algorithm\n",
        "dtree = DecisionTreeClassifier()\n",
        "dtree.fit(x_train.values, y_train)"
      ]
    },
    {
      "cell_type": "markdown",
      "metadata": {
        "id": "k8ZrVqvVcWu6"
      },
      "source": [
        "#### Logistic regression\n",
        "Logistic regression is an example of supervised learning. It is used to calculate or predict the probability of a binary (yes/no) event occurring. Though it can be used to predict multiple classes, it only works best on binary classification."
      ]
    },
    {
      "cell_type": "code",
      "execution_count": null,
      "metadata": {
        "colab": {
          "background_save": true,
          "base_uri": "https://localhost:8080/"
        },
        "id": "GqSmPgTbFK6o",
        "outputId": "500fffa3-0121-409d-e822-903588bae605"
      },
      "outputs": [
        {
          "data": {
            "text/plain": [
              "LogisticRegression()"
            ]
          },
          "execution_count": 61,
          "metadata": {},
          "output_type": "execute_result"
        }
      ],
      "source": [
        "#Modelling with random forest algorithm\n",
        "lr = LogisticRegression()\n",
        "lr.fit(x_train.values, y_train)"
      ]
    },
    {
      "cell_type": "markdown",
      "metadata": {
        "id": "hA_8-gjCejMW"
      },
      "source": [
        "#### Gaussian NB\n",
        "Naïve Bayes is a probabilistic machine learning algorithm used for many classification functions and is based on the Bayes theorem. Gaussian Naïve Bayes is the extension of naïve Bayes. it also performes poorly on multiple class prediction but not as logidtics regression."
      ]
    },
    {
      "cell_type": "code",
      "execution_count": null,
      "metadata": {
        "colab": {
          "background_save": true,
          "base_uri": "https://localhost:8080/"
        },
        "id": "I24BVsGOFKYy",
        "outputId": "0404e6a7-1943-4595-87e7-ef8bd7c94195"
      },
      "outputs": [
        {
          "data": {
            "text/plain": [
              "GaussianNB()"
            ]
          },
          "execution_count": 62,
          "metadata": {},
          "output_type": "execute_result"
        }
      ],
      "source": [
        "#Modelling with random forest algorithm\n",
        "nb = GaussianNB()\n",
        "nb.fit(x_train.values, y_train)"
      ]
    },
    {
      "cell_type": "code",
      "execution_count": null,
      "metadata": {
        "colab": {
          "background_save": true
        },
        "id": "I6dyTkzg_URp"
      },
      "outputs": [],
      "source": [
        "#Writing a function to evaluate the performance of the models\n",
        "def evaluate(model):\n",
        "  y_pred = model.predict(x_test)\n",
        "  print(f\"The accuracy score of the {type(model).__name__} is {round(accuracy_score(y_test, y_pred) * 100)}%\\n\")\n",
        "  print(f\"The F1 score of the {type(model).__name__} is {round(f1_score(y_test, y_pred, average='macro') * 100)}%\\n\\n\")\n",
        "  plot_confusion_matrix(model, x_test, y_test)\n",
        "  plt.xlabel(\"Predicted Label\")\n",
        "  plt.title(\"Confusion Matrix\")\n",
        "  plt.show()"
      ]
    },
    {
      "cell_type": "code",
      "execution_count": null,
      "metadata": {
        "colab": {
          "background_save": true,
          "base_uri": "https://localhost:8080/",
          "height": 381
        },
        "id": "VvNC_0xj7jUZ",
        "outputId": "2425e274-7a72-4d7f-d280-42d1cd9853ae"
      },
      "outputs": [
        {
          "name": "stdout",
          "output_type": "stream",
          "text": [
            "The accuracy score of the RandomForestClassifier is 85%\n",
            "\n",
            "The F1 score of the RandomForestClassifier is 84%\n",
            "\n",
            "\n"
          ]
        },
        {
          "data": {
            "image/png": "[encoded data removed]",
            "text/plain": [
              "<Figure size 432x288 with 2 Axes>"
            ]
          },
          "metadata": {},
          "output_type": "display_data"
        }
      ],
      "source": [
        "evaluate(rf)"
      ]
    },
    {
      "cell_type": "code",
      "execution_count": null,
      "metadata": {
        "colab": {
          "background_save": true,
          "base_uri": "https://localhost:8080/",
          "height": 381
        },
        "id": "inINEd2QGHrU",
        "outputId": "0a2a562d-4741-49d3-fce1-092c22bb4ffa"
      },
      "outputs": [
        {
          "name": "stdout",
          "output_type": "stream",
          "text": [
            "The accuracy score of the DecisionTreeClassifier is 95%\n",
            "\n",
            "The F1 score of the DecisionTreeClassifier is 95%\n",
            "\n",
            "\n"
          ]
        },
        {
          "data": {
            "image/png": "[encoded data removed]",
            "text/plain": [
              "<Figure size 432x288 with 2 Axes>"
            ]
          },
          "metadata": {},
          "output_type": "display_data"
        }
      ],
      "source": [
        "evaluate(dtree)"
      ]
    },
    {
      "cell_type": "code",
      "execution_count": null,
      "metadata": {
        "colab": {
          "background_save": true,
          "base_uri": "https://localhost:8080/",
          "height": 381
        },
        "id": "LFGQoNfYGHZk",
        "outputId": "3adf9e13-dce2-4ed4-8669-9b53b7618456"
      },
      "outputs": [
        {
          "name": "stdout",
          "output_type": "stream",
          "text": [
            "The accuracy score of the GaussianNB is 32%\n",
            "\n",
            "The F1 score of the GaussianNB is 30%\n",
            "\n",
            "\n"
          ]
        },
        {
          "data": {
            "image/png": "[encoded data removed]",
            "text/plain": [
              "<Figure size 432x288 with 2 Axes>"
            ]
          },
          "metadata": {},
          "output_type": "display_data"
        }
      ],
      "source": [
        "evaluate(nb)"
      ]
    },
    {
      "cell_type": "code",
      "execution_count": null,
      "metadata": {
        "colab": {
          "base_uri": "https://localhost:8080/",
          "height": 381
        },
        "id": "5cJ0lCqGGHJ8",
        "outputId": "90f5ad74-1221-4a50-86d7-5fecf19bfb5d"
      },
      "outputs": [
        {
          "name": "stdout",
          "output_type": "stream",
          "text": [
            "The accuracy score of the LogisticRegression is 15%\n",
            "\n",
            "The F1 score of the LogisticRegression is 4%\n",
            "\n",
            "\n"
          ]
        },
        {
          "data": {
            "image/png": "[encoded data removed]",
            "text/plain": [
              "<Figure size 432x288 with 2 Axes>"
            ]
          },
          "metadata": {},
          "output_type": "display_data"
        }
      ],
      "source": [
        "evaluate(lr)"
      ]
    },
    {
      "cell_type": "markdown",
      "metadata": {
        "id": "ISjB2SJrfsf1"
      },
      "source": [
        "- The Accuracy Score is the number(percentage) of correct predictions over all predictions. It is the base metric used for model evaluation often \n",
        "\n",
        "- Precision Score is a measure / percentage of how many of the positive predictions made are correct\n",
        "\n",
        "- Recall score is a metric that quantifies the number of correct positive predictions made out of all positive predictions that could have been made\n",
        "\n",
        "- F1 score is sums up the predictive performance of a model by combining precision and recall. It is a very important metric for the evaluation of machine learning models.\n",
        "\n",
        "As described above, Logistic Regression and Gaussion NB performed poorly with Logistic Regression predicting only class **1** according to the confusion matrix."
      ]
    },
    {
      "cell_type": "code",
      "execution_count": null,
      "metadata": {
        "colab": {
          "base_uri": "https://localhost:8080/",
          "height": 280
        },
        "id": "tC1Oc1YW7ePH",
        "outputId": "9ab1cae2-914c-4de5-ca09-b4f79601c19f"
      },
      "outputs": [
        {
          "data": {
            "image/png": "[encoded data removed]",
            "text/plain": [
              "<Figure size 432x288 with 1 Axes>"
            ]
          },
          "metadata": {},
          "output_type": "display_data"
        }
      ],
      "source": [
        "plt.barh(x.columns, dtree.feature_importances_)\n",
        "plt.title(\"Contribution Of Each Feature (Decision Tree)\")\n",
        "plt.show()"
      ]
    },
    {
      "cell_type": "code",
      "execution_count": null,
      "metadata": {
        "colab": {
          "base_uri": "https://localhost:8080/",
          "height": 280
        },
        "id": "mSdQeidwVOHB",
        "outputId": "6b9cf6cf-5cc9-4199-f881-c753c311df73"
      },
      "outputs": [
        {
          "data": {
            "image/png": "[encoded data removed]",
            "text/plain": [
              "<Figure size 432x288 with 1 Axes>"
            ]
          },
          "metadata": {},
          "output_type": "display_data"
        }
      ],
      "source": [
        "plt.barh(x.columns, rf.feature_importances_)\n",
        "plt.title(\"Contribution Of Each Feature (Random Forest)\")\n",
        "plt.show()"
      ]
    },
    {
      "cell_type": "markdown",
      "metadata": {
        "id": "0mlXiDLzjfJY"
      },
      "source": [
        "From the two charts above, The decision tree classifier which was the best model greatly depends on the price feature and didn't consider some of the features, hence, we will use the Random Forest model which took all features to consideration and less dependant on one price column like the decision tree model for deployment.\n",
        "\n",
        "Generally, The price of a product is the most important feature anyone would consider before purchasing a product which is also obvious in both charts."
      ]
    },
    {
      "cell_type": "markdown",
      "source": [
        "### Hyparameter Tuning for RandomForest "
      ],
      "metadata": {
        "id": "f0HrOpUOFtjh"
      }
    },
    {
      "cell_type": "code",
      "source": [
        "# Model tuning with RandomSearchCV\n",
        "kf = KFold(n_splits=5, shuffle=True, random_state=42)\n",
        "\n",
        "max_depth = [int(x) for x in np.linspace(10, 100, num = 11)]\n",
        "max_depth.append(None)\n",
        "kf = KFold(n_splits = 5, shuffle = True, random_state = 5)\n",
        "params = {'n_estimators': [int(x) for x in np.linspace(10, 100, num = 20)],\n",
        "          'criterion': ['gini', 'entropy', 'log_loss'],\n",
        "          'max_depth': max_depth,\n",
        "          'min_samples_split': [2, 5, 10], 'verbose': [int(x) for x in np.linspace(0, 20, num = 10)],\n",
        "          'min_samples_leaf': [1, 2, 4], 'class_weight': ['balanced', 'balanced_subsample'],\n",
        "          'bootstrap': [True, False], 'max_features': ['sqrt', 'log2', None]}"
      ],
      "metadata": {
        "id": "amNjQ_5gFpmp"
      },
      "execution_count": null,
      "outputs": []
    },
    {
      "cell_type": "code",
      "source": [
        "rf_kf = RandomForestClassifier()\n",
        "rf_tune = RandomizedSearchCV(rf_kf, params, cv = kf, n_iter = 2)\n",
        "rf_tune.fit(x_train, y_train)"
      ],
      "metadata": {
        "colab": {
          "base_uri": "https://localhost:8080/"
        },
        "id": "goKrTm8yGiz3",
        "outputId": "326dddda-89cc-4081-b0ac-1b8326f38cc3"
      },
      "execution_count": null,
      "outputs": [
        {
          "output_type": "stream",
          "name": "stderr",
          "text": [
            "[Parallel(n_jobs=1)]: Using backend SequentialBackend with 1 concurrent workers.\n",
            "[Parallel(n_jobs=1)]: Done   1 out of   1 | elapsed:    0.0s remaining:    0.0s\n",
            "[Parallel(n_jobs=1)]: Done   2 out of   2 | elapsed:    0.0s remaining:    0.0s\n",
            "[Parallel(n_jobs=1)]: Done   3 out of   3 | elapsed:    0.0s remaining:    0.0s\n",
            "[Parallel(n_jobs=1)]: Done   4 out of   4 | elapsed:    0.1s remaining:    0.0s\n",
            "[Parallel(n_jobs=1)]: Done   5 out of   5 | elapsed:    0.1s remaining:    0.0s\n",
            "[Parallel(n_jobs=1)]: Done   6 out of   6 | elapsed:    0.1s remaining:    0.0s\n",
            "[Parallel(n_jobs=1)]: Done   7 out of   7 | elapsed:    0.1s remaining:    0.0s\n",
            "[Parallel(n_jobs=1)]: Done   8 out of   8 | elapsed:    0.1s remaining:    0.0s\n",
            "[Parallel(n_jobs=1)]: Done   9 out of   9 | elapsed:    0.1s remaining:    0.0s\n",
            "[Parallel(n_jobs=1)]: Done  10 out of  10 | elapsed:    0.2s remaining:    0.0s\n",
            "[Parallel(n_jobs=1)]: Done  11 out of  11 | elapsed:    0.2s remaining:    0.0s\n",
            "[Parallel(n_jobs=1)]: Done  12 out of  12 | elapsed:    0.2s remaining:    0.0s\n",
            "[Parallel(n_jobs=1)]: Done  13 out of  13 | elapsed:    0.2s remaining:    0.0s\n"
          ]
        },
        {
          "output_type": "stream",
          "name": "stdout",
          "text": [
            "building tree 1 of 52\n",
            "building tree 2 of 52\n",
            "building tree 3 of 52\n",
            "building tree 4 of 52\n",
            "building tree 5 of 52\n",
            "building tree 6 of 52\n",
            "building tree 7 of 52\n",
            "building tree 8 of 52\n",
            "building tree 9 of 52\n",
            "building tree 10 of 52\n",
            "building tree 11 of 52\n",
            "building tree 12 of 52\n",
            "building tree 13 of 52\n",
            "building tree 14 of 52\n"
          ]
        },
        {
          "output_type": "stream",
          "name": "stderr",
          "text": [
            "[Parallel(n_jobs=1)]: Done  14 out of  14 | elapsed:    0.2s remaining:    0.0s\n"
          ]
        },
        {
          "output_type": "stream",
          "name": "stdout",
          "text": [
            "building tree 15 of 52\n",
            "building tree 16 of 52\n",
            "building tree 17 of 52\n",
            "building tree 18 of 52\n",
            "building tree 19 of 52\n",
            "building tree 20 of 52\n",
            "building tree 21 of 52\n",
            "building tree 22 of 52\n",
            "building tree 23 of 52\n",
            "building tree 24 of 52\n",
            "building tree 25 of 52\n",
            "building tree 26 of 52\n",
            "building tree 27 of 52\n",
            "building tree 28 of 52\n",
            "building tree 29 of 52\n",
            "building tree 30 of 52\n",
            "building tree 31 of 52\n",
            "building tree 32 of 52\n",
            "building tree 33 of 52\n",
            "building tree 34 of 52\n",
            "building tree 35 of 52\n",
            "building tree 36 of 52\n",
            "building tree 37 of 52\n",
            "building tree 38 of 52\n",
            "building tree 39 of 52\n",
            "building tree 40 of 52\n",
            "building tree 41 of 52\n",
            "building tree 42 of 52\n",
            "building tree 43 of 52\n",
            "building tree 44 of 52\n",
            "building tree 45 of 52\n",
            "building tree 46 of 52\n",
            "building tree 47 of 52\n",
            "building tree 48 of 52\n",
            "building tree 49 of 52\n",
            "building tree 50 of 52\n",
            "building tree 51 of 52\n",
            "building tree 52 of 52\n",
            "Using ThreadingBackend as joblib.Parallel backend instead of LokyBackend as the latter does not provide shared memory semantics.\n"
          ]
        },
        {
          "output_type": "stream",
          "name": "stderr",
          "text": [
            "[Parallel(n_jobs=1)]: Done  52 out of  52 | elapsed:    0.8s finished\n",
            "[Parallel(n_jobs=1)]: Using backend SequentialBackend with 1 concurrent workers.\n",
            "[Parallel(n_jobs=1)]: Done   1 out of   1 | elapsed:    0.0s remaining:    0.0s\n",
            "[Parallel(n_jobs=1)]: Done   2 out of   2 | elapsed:    0.0s remaining:    0.0s\n",
            "[Parallel(n_jobs=1)]: Done   3 out of   3 | elapsed:    0.0s remaining:    0.0s\n",
            "[Parallel(n_jobs=1)]: Done   4 out of   4 | elapsed:    0.0s remaining:    0.0s\n",
            "[Parallel(n_jobs=1)]: Done   5 out of   5 | elapsed:    0.0s remaining:    0.0s\n",
            "[Parallel(n_jobs=1)]: Done   6 out of   6 | elapsed:    0.0s remaining:    0.0s\n",
            "[Parallel(n_jobs=1)]: Done   7 out of   7 | elapsed:    0.0s remaining:    0.0s\n",
            "[Parallel(n_jobs=1)]: Done   8 out of   8 | elapsed:    0.0s remaining:    0.0s\n",
            "[Parallel(n_jobs=1)]: Done   9 out of   9 | elapsed:    0.0s remaining:    0.0s\n",
            "[Parallel(n_jobs=1)]: Done  10 out of  10 | elapsed:    0.0s remaining:    0.0s\n",
            "[Parallel(n_jobs=1)]: Done  11 out of  11 | elapsed:    0.0s remaining:    0.0s\n",
            "[Parallel(n_jobs=1)]: Done  12 out of  12 | elapsed:    0.0s remaining:    0.0s\n",
            "[Parallel(n_jobs=1)]: Done  13 out of  13 | elapsed:    0.0s remaining:    0.0s\n",
            "[Parallel(n_jobs=1)]: Done  14 out of  14 | elapsed:    0.0s remaining:    0.0s\n",
            "[Parallel(n_jobs=1)]: Done  52 out of  52 | elapsed:    0.0s finished\n",
            "[Parallel(n_jobs=1)]: Using backend SequentialBackend with 1 concurrent workers.\n",
            "[Parallel(n_jobs=1)]: Done   1 out of   1 | elapsed:    0.0s remaining:    0.0s\n",
            "[Parallel(n_jobs=1)]: Done   2 out of   2 | elapsed:    0.0s remaining:    0.0s\n",
            "[Parallel(n_jobs=1)]: Done   3 out of   3 | elapsed:    0.0s remaining:    0.0s\n",
            "[Parallel(n_jobs=1)]: Done   4 out of   4 | elapsed:    0.1s remaining:    0.0s\n",
            "[Parallel(n_jobs=1)]: Done   5 out of   5 | elapsed:    0.1s remaining:    0.0s\n",
            "[Parallel(n_jobs=1)]: Done   6 out of   6 | elapsed:    0.1s remaining:    0.0s\n",
            "[Parallel(n_jobs=1)]: Done   7 out of   7 | elapsed:    0.1s remaining:    0.0s\n",
            "[Parallel(n_jobs=1)]: Done   8 out of   8 | elapsed:    0.1s remaining:    0.0s\n"
          ]
        },
        {
          "output_type": "stream",
          "name": "stdout",
          "text": [
            "building tree 1 of 52\n",
            "building tree 2 of 52\n",
            "building tree 3 of 52\n",
            "building tree 4 of 52\n",
            "building tree 5 of 52\n",
            "building tree 6 of 52\n",
            "building tree 7 of 52\n",
            "building tree 8 of 52\n",
            "building tree 9 of 52\n",
            "building tree 10 of 52\n",
            "building tree 11 of 52\n",
            "building tree 12 of 52\n",
            "building tree 13 of 52\n",
            "building tree 14 of 52\n"
          ]
        },
        {
          "output_type": "stream",
          "name": "stderr",
          "text": [
            "[Parallel(n_jobs=1)]: Done   9 out of   9 | elapsed:    0.1s remaining:    0.0s\n",
            "[Parallel(n_jobs=1)]: Done  10 out of  10 | elapsed:    0.2s remaining:    0.0s\n",
            "[Parallel(n_jobs=1)]: Done  11 out of  11 | elapsed:    0.2s remaining:    0.0s\n",
            "[Parallel(n_jobs=1)]: Done  12 out of  12 | elapsed:    0.2s remaining:    0.0s\n",
            "[Parallel(n_jobs=1)]: Done  13 out of  13 | elapsed:    0.2s remaining:    0.0s\n",
            "[Parallel(n_jobs=1)]: Done  14 out of  14 | elapsed:    0.2s remaining:    0.0s\n"
          ]
        },
        {
          "output_type": "stream",
          "name": "stdout",
          "text": [
            "building tree 15 of 52\n",
            "building tree 16 of 52\n",
            "building tree 17 of 52\n",
            "building tree 18 of 52\n",
            "building tree 19 of 52\n",
            "building tree 20 of 52\n",
            "building tree 21 of 52\n",
            "building tree 22 of 52\n",
            "building tree 23 of 52\n",
            "building tree 24 of 52\n",
            "building tree 25 of 52\n",
            "building tree 26 of 52\n",
            "building tree 27 of 52\n",
            "building tree 28 of 52\n",
            "building tree 29 of 52\n",
            "building tree 30 of 52\n",
            "building tree 31 of 52\n",
            "building tree 32 of 52\n",
            "building tree 33 of 52\n",
            "building tree 34 of 52\n",
            "building tree 35 of 52\n",
            "building tree 36 of 52\n",
            "building tree 37 of 52\n",
            "building tree 38 of 52\n",
            "building tree 39 of 52\n",
            "building tree 40 of 52\n",
            "building tree 41 of 52\n",
            "building tree 42 of 52\n",
            "building tree 43 of 52\n",
            "building tree 44 of 52\n",
            "building tree 45 of 52\n",
            "building tree 46 of 52\n",
            "building tree 47 of 52\n",
            "building tree 48 of 52\n",
            "building tree 49 of 52\n",
            "building tree 50 of 52\n",
            "building tree 51 of 52\n",
            "building tree 52 of 52\n",
            "Using ThreadingBackend as joblib.Parallel backend instead of LokyBackend as the latter does not provide shared memory semantics.\n"
          ]
        },
        {
          "output_type": "stream",
          "name": "stderr",
          "text": [
            "[Parallel(n_jobs=1)]: Done  52 out of  52 | elapsed:    0.8s finished\n",
            "[Parallel(n_jobs=1)]: Using backend SequentialBackend with 1 concurrent workers.\n",
            "[Parallel(n_jobs=1)]: Done   1 out of   1 | elapsed:    0.0s remaining:    0.0s\n",
            "[Parallel(n_jobs=1)]: Done   2 out of   2 | elapsed:    0.0s remaining:    0.0s\n",
            "[Parallel(n_jobs=1)]: Done   3 out of   3 | elapsed:    0.0s remaining:    0.0s\n",
            "[Parallel(n_jobs=1)]: Done   4 out of   4 | elapsed:    0.0s remaining:    0.0s\n",
            "[Parallel(n_jobs=1)]: Done   5 out of   5 | elapsed:    0.0s remaining:    0.0s\n",
            "[Parallel(n_jobs=1)]: Done   6 out of   6 | elapsed:    0.0s remaining:    0.0s\n",
            "[Parallel(n_jobs=1)]: Done   7 out of   7 | elapsed:    0.0s remaining:    0.0s\n",
            "[Parallel(n_jobs=1)]: Done   8 out of   8 | elapsed:    0.0s remaining:    0.0s\n",
            "[Parallel(n_jobs=1)]: Done   9 out of   9 | elapsed:    0.0s remaining:    0.0s\n",
            "[Parallel(n_jobs=1)]: Done  10 out of  10 | elapsed:    0.0s remaining:    0.0s\n",
            "[Parallel(n_jobs=1)]: Done  11 out of  11 | elapsed:    0.0s remaining:    0.0s\n",
            "[Parallel(n_jobs=1)]: Done  12 out of  12 | elapsed:    0.0s remaining:    0.0s\n",
            "[Parallel(n_jobs=1)]: Done  13 out of  13 | elapsed:    0.0s remaining:    0.0s\n",
            "[Parallel(n_jobs=1)]: Done  14 out of  14 | elapsed:    0.0s remaining:    0.0s\n",
            "[Parallel(n_jobs=1)]: Done  52 out of  52 | elapsed:    0.0s finished\n",
            "[Parallel(n_jobs=1)]: Using backend SequentialBackend with 1 concurrent workers.\n",
            "[Parallel(n_jobs=1)]: Done   1 out of   1 | elapsed:    0.0s remaining:    0.0s\n",
            "[Parallel(n_jobs=1)]: Done   2 out of   2 | elapsed:    0.0s remaining:    0.0s\n",
            "[Parallel(n_jobs=1)]: Done   3 out of   3 | elapsed:    0.0s remaining:    0.0s\n",
            "[Parallel(n_jobs=1)]: Done   4 out of   4 | elapsed:    0.1s remaining:    0.0s\n",
            "[Parallel(n_jobs=1)]: Done   5 out of   5 | elapsed:    0.1s remaining:    0.0s\n",
            "[Parallel(n_jobs=1)]: Done   6 out of   6 | elapsed:    0.1s remaining:    0.0s\n",
            "[Parallel(n_jobs=1)]: Done   7 out of   7 | elapsed:    0.1s remaining:    0.0s\n",
            "[Parallel(n_jobs=1)]: Done   8 out of   8 | elapsed:    0.1s remaining:    0.0s\n"
          ]
        },
        {
          "output_type": "stream",
          "name": "stdout",
          "text": [
            "building tree 1 of 52\n",
            "building tree 2 of 52\n",
            "building tree 3 of 52\n",
            "building tree 4 of 52\n",
            "building tree 5 of 52\n",
            "building tree 6 of 52\n",
            "building tree 7 of 52\n",
            "building tree 8 of 52\n",
            "building tree 9 of 52\n",
            "building tree 10 of 52\n",
            "building tree 11 of 52\n",
            "building tree 12 of 52\n",
            "building tree 13 of 52\n",
            "building tree 14 of 52\n"
          ]
        },
        {
          "output_type": "stream",
          "name": "stderr",
          "text": [
            "[Parallel(n_jobs=1)]: Done   9 out of   9 | elapsed:    0.1s remaining:    0.0s\n",
            "[Parallel(n_jobs=1)]: Done  10 out of  10 | elapsed:    0.2s remaining:    0.0s\n",
            "[Parallel(n_jobs=1)]: Done  11 out of  11 | elapsed:    0.2s remaining:    0.0s\n",
            "[Parallel(n_jobs=1)]: Done  12 out of  12 | elapsed:    0.2s remaining:    0.0s\n",
            "[Parallel(n_jobs=1)]: Done  13 out of  13 | elapsed:    0.2s remaining:    0.0s\n",
            "[Parallel(n_jobs=1)]: Done  14 out of  14 | elapsed:    0.2s remaining:    0.0s\n"
          ]
        },
        {
          "output_type": "stream",
          "name": "stdout",
          "text": [
            "building tree 15 of 52\n",
            "building tree 16 of 52\n",
            "building tree 17 of 52\n",
            "building tree 18 of 52\n",
            "building tree 19 of 52\n",
            "building tree 20 of 52\n",
            "building tree 21 of 52\n",
            "building tree 22 of 52\n",
            "building tree 23 of 52\n",
            "building tree 24 of 52\n",
            "building tree 25 of 52\n",
            "building tree 26 of 52\n",
            "building tree 27 of 52\n",
            "building tree 28 of 52\n",
            "building tree 29 of 52\n",
            "building tree 30 of 52\n",
            "building tree 31 of 52\n",
            "building tree 32 of 52\n",
            "building tree 33 of 52\n",
            "building tree 34 of 52\n",
            "building tree 35 of 52\n",
            "building tree 36 of 52\n",
            "building tree 37 of 52\n",
            "building tree 38 of 52\n",
            "building tree 39 of 52\n",
            "building tree 40 of 52\n",
            "building tree 41 of 52\n",
            "building tree 42 of 52\n",
            "building tree 43 of 52\n",
            "building tree 44 of 52\n",
            "building tree 45 of 52\n",
            "building tree 46 of 52\n",
            "building tree 47 of 52\n",
            "building tree 48 of 52\n",
            "building tree 49 of 52\n",
            "building tree 50 of 52\n",
            "building tree 51 of 52\n",
            "building tree 52 of 52\n",
            "Using ThreadingBackend as joblib.Parallel backend instead of LokyBackend as the latter does not provide shared memory semantics.\n"
          ]
        },
        {
          "output_type": "stream",
          "name": "stderr",
          "text": [
            "[Parallel(n_jobs=1)]: Done  52 out of  52 | elapsed:    0.8s finished\n",
            "[Parallel(n_jobs=1)]: Using backend SequentialBackend with 1 concurrent workers.\n",
            "[Parallel(n_jobs=1)]: Done   1 out of   1 | elapsed:    0.0s remaining:    0.0s\n",
            "[Parallel(n_jobs=1)]: Done   2 out of   2 | elapsed:    0.0s remaining:    0.0s\n",
            "[Parallel(n_jobs=1)]: Done   3 out of   3 | elapsed:    0.0s remaining:    0.0s\n",
            "[Parallel(n_jobs=1)]: Done   4 out of   4 | elapsed:    0.0s remaining:    0.0s\n",
            "[Parallel(n_jobs=1)]: Done   5 out of   5 | elapsed:    0.0s remaining:    0.0s\n",
            "[Parallel(n_jobs=1)]: Done   6 out of   6 | elapsed:    0.0s remaining:    0.0s\n",
            "[Parallel(n_jobs=1)]: Done   7 out of   7 | elapsed:    0.0s remaining:    0.0s\n",
            "[Parallel(n_jobs=1)]: Done   8 out of   8 | elapsed:    0.0s remaining:    0.0s\n",
            "[Parallel(n_jobs=1)]: Done   9 out of   9 | elapsed:    0.0s remaining:    0.0s\n",
            "[Parallel(n_jobs=1)]: Done  10 out of  10 | elapsed:    0.0s remaining:    0.0s\n",
            "[Parallel(n_jobs=1)]: Done  11 out of  11 | elapsed:    0.0s remaining:    0.0s\n",
            "[Parallel(n_jobs=1)]: Done  12 out of  12 | elapsed:    0.0s remaining:    0.0s\n",
            "[Parallel(n_jobs=1)]: Done  13 out of  13 | elapsed:    0.0s remaining:    0.0s\n",
            "[Parallel(n_jobs=1)]: Done  14 out of  14 | elapsed:    0.0s remaining:    0.0s\n",
            "[Parallel(n_jobs=1)]: Done  52 out of  52 | elapsed:    0.0s finished\n",
            "[Parallel(n_jobs=1)]: Using backend SequentialBackend with 1 concurrent workers.\n",
            "[Parallel(n_jobs=1)]: Done   1 out of   1 | elapsed:    0.0s remaining:    0.0s\n",
            "[Parallel(n_jobs=1)]: Done   2 out of   2 | elapsed:    0.0s remaining:    0.0s\n",
            "[Parallel(n_jobs=1)]: Done   3 out of   3 | elapsed:    0.0s remaining:    0.0s\n",
            "[Parallel(n_jobs=1)]: Done   4 out of   4 | elapsed:    0.1s remaining:    0.0s\n",
            "[Parallel(n_jobs=1)]: Done   5 out of   5 | elapsed:    0.1s remaining:    0.0s\n",
            "[Parallel(n_jobs=1)]: Done   6 out of   6 | elapsed:    0.1s remaining:    0.0s\n",
            "[Parallel(n_jobs=1)]: Done   7 out of   7 | elapsed:    0.1s remaining:    0.0s\n"
          ]
        },
        {
          "output_type": "stream",
          "name": "stdout",
          "text": [
            "building tree 1 of 52\n",
            "building tree 2 of 52\n",
            "building tree 3 of 52\n",
            "building tree 4 of 52\n",
            "building tree 5 of 52\n",
            "building tree 6 of 52\n",
            "building tree 7 of 52\n",
            "building tree 8 of 52\n",
            "building tree 9 of 52\n",
            "building tree 10 of 52\n",
            "building tree 11 of 52\n",
            "building tree 12 of 52\n",
            "building tree 13 of 52\n"
          ]
        },
        {
          "output_type": "stream",
          "name": "stderr",
          "text": [
            "[Parallel(n_jobs=1)]: Done   8 out of   8 | elapsed:    0.1s remaining:    0.0s\n",
            "[Parallel(n_jobs=1)]: Done   9 out of   9 | elapsed:    0.1s remaining:    0.0s\n",
            "[Parallel(n_jobs=1)]: Done  10 out of  10 | elapsed:    0.2s remaining:    0.0s\n",
            "[Parallel(n_jobs=1)]: Done  11 out of  11 | elapsed:    0.2s remaining:    0.0s\n",
            "[Parallel(n_jobs=1)]: Done  12 out of  12 | elapsed:    0.2s remaining:    0.0s\n",
            "[Parallel(n_jobs=1)]: Done  13 out of  13 | elapsed:    0.2s remaining:    0.0s\n",
            "[Parallel(n_jobs=1)]: Done  14 out of  14 | elapsed:    0.2s remaining:    0.0s\n"
          ]
        },
        {
          "output_type": "stream",
          "name": "stdout",
          "text": [
            "building tree 14 of 52\n",
            "building tree 15 of 52\n",
            "building tree 16 of 52\n",
            "building tree 17 of 52\n",
            "building tree 18 of 52\n",
            "building tree 19 of 52\n",
            "building tree 20 of 52\n",
            "building tree 21 of 52\n",
            "building tree 22 of 52\n",
            "building tree 23 of 52\n",
            "building tree 24 of 52\n",
            "building tree 25 of 52\n",
            "building tree 26 of 52\n",
            "building tree 27 of 52\n",
            "building tree 28 of 52\n",
            "building tree 29 of 52\n",
            "building tree 30 of 52\n",
            "building tree 31 of 52\n",
            "building tree 32 of 52\n",
            "building tree 33 of 52\n",
            "building tree 34 of 52\n",
            "building tree 35 of 52\n",
            "building tree 36 of 52\n",
            "building tree 37 of 52\n",
            "building tree 38 of 52\n",
            "building tree 39 of 52\n",
            "building tree 40 of 52\n",
            "building tree 41 of 52\n",
            "building tree 42 of 52\n",
            "building tree 43 of 52\n",
            "building tree 44 of 52\n",
            "building tree 45 of 52\n",
            "building tree 46 of 52\n",
            "building tree 47 of 52\n",
            "building tree 48 of 52\n",
            "building tree 49 of 52\n",
            "building tree 50 of 52\n",
            "building tree 51 of 52\n",
            "building tree 52 of 52\n",
            "Using ThreadingBackend as joblib.Parallel backend instead of LokyBackend as the latter does not provide shared memory semantics.\n"
          ]
        },
        {
          "output_type": "stream",
          "name": "stderr",
          "text": [
            "[Parallel(n_jobs=1)]: Done  52 out of  52 | elapsed:    0.8s finished\n",
            "[Parallel(n_jobs=1)]: Using backend SequentialBackend with 1 concurrent workers.\n",
            "[Parallel(n_jobs=1)]: Done   1 out of   1 | elapsed:    0.0s remaining:    0.0s\n",
            "[Parallel(n_jobs=1)]: Done   2 out of   2 | elapsed:    0.0s remaining:    0.0s\n",
            "[Parallel(n_jobs=1)]: Done   3 out of   3 | elapsed:    0.0s remaining:    0.0s\n",
            "[Parallel(n_jobs=1)]: Done   4 out of   4 | elapsed:    0.0s remaining:    0.0s\n",
            "[Parallel(n_jobs=1)]: Done   5 out of   5 | elapsed:    0.0s remaining:    0.0s\n",
            "[Parallel(n_jobs=1)]: Done   6 out of   6 | elapsed:    0.0s remaining:    0.0s\n",
            "[Parallel(n_jobs=1)]: Done   7 out of   7 | elapsed:    0.0s remaining:    0.0s\n",
            "[Parallel(n_jobs=1)]: Done   8 out of   8 | elapsed:    0.0s remaining:    0.0s\n",
            "[Parallel(n_jobs=1)]: Done   9 out of   9 | elapsed:    0.0s remaining:    0.0s\n",
            "[Parallel(n_jobs=1)]: Done  10 out of  10 | elapsed:    0.0s remaining:    0.0s\n",
            "[Parallel(n_jobs=1)]: Done  11 out of  11 | elapsed:    0.0s remaining:    0.0s\n",
            "[Parallel(n_jobs=1)]: Done  12 out of  12 | elapsed:    0.0s remaining:    0.0s\n",
            "[Parallel(n_jobs=1)]: Done  13 out of  13 | elapsed:    0.0s remaining:    0.0s\n",
            "[Parallel(n_jobs=1)]: Done  14 out of  14 | elapsed:    0.0s remaining:    0.0s\n",
            "[Parallel(n_jobs=1)]: Done  52 out of  52 | elapsed:    0.0s finished\n",
            "[Parallel(n_jobs=1)]: Using backend SequentialBackend with 1 concurrent workers.\n",
            "[Parallel(n_jobs=1)]: Done   1 out of   1 | elapsed:    0.0s remaining:    0.0s\n",
            "[Parallel(n_jobs=1)]: Done   2 out of   2 | elapsed:    0.0s remaining:    0.0s\n",
            "[Parallel(n_jobs=1)]: Done   3 out of   3 | elapsed:    0.0s remaining:    0.0s\n",
            "[Parallel(n_jobs=1)]: Done   4 out of   4 | elapsed:    0.1s remaining:    0.0s\n",
            "[Parallel(n_jobs=1)]: Done   5 out of   5 | elapsed:    0.1s remaining:    0.0s\n",
            "[Parallel(n_jobs=1)]: Done   6 out of   6 | elapsed:    0.1s remaining:    0.0s\n",
            "[Parallel(n_jobs=1)]: Done   7 out of   7 | elapsed:    0.1s remaining:    0.0s\n"
          ]
        },
        {
          "output_type": "stream",
          "name": "stdout",
          "text": [
            "building tree 1 of 52\n",
            "building tree 2 of 52\n",
            "building tree 3 of 52\n",
            "building tree 4 of 52\n",
            "building tree 5 of 52\n",
            "building tree 6 of 52\n",
            "building tree 7 of 52\n",
            "building tree 8 of 52\n",
            "building tree 9 of 52\n",
            "building tree 10 of 52\n",
            "building tree 11 of 52\n",
            "building tree 12 of 52\n",
            "building tree 13 of 52\n"
          ]
        },
        {
          "output_type": "stream",
          "name": "stderr",
          "text": [
            "[Parallel(n_jobs=1)]: Done   8 out of   8 | elapsed:    0.1s remaining:    0.0s\n",
            "[Parallel(n_jobs=1)]: Done   9 out of   9 | elapsed:    0.2s remaining:    0.0s\n",
            "[Parallel(n_jobs=1)]: Done  10 out of  10 | elapsed:    0.2s remaining:    0.0s\n",
            "[Parallel(n_jobs=1)]: Done  11 out of  11 | elapsed:    0.2s remaining:    0.0s\n",
            "[Parallel(n_jobs=1)]: Done  12 out of  12 | elapsed:    0.2s remaining:    0.0s\n",
            "[Parallel(n_jobs=1)]: Done  13 out of  13 | elapsed:    0.2s remaining:    0.0s\n",
            "[Parallel(n_jobs=1)]: Done  14 out of  14 | elapsed:    0.2s remaining:    0.0s\n"
          ]
        },
        {
          "output_type": "stream",
          "name": "stdout",
          "text": [
            "building tree 14 of 52\n",
            "building tree 15 of 52\n",
            "building tree 16 of 52\n",
            "building tree 17 of 52\n",
            "building tree 18 of 52\n",
            "building tree 19 of 52\n",
            "building tree 20 of 52\n",
            "building tree 21 of 52\n",
            "building tree 22 of 52\n",
            "building tree 23 of 52\n",
            "building tree 24 of 52\n",
            "building tree 25 of 52\n",
            "building tree 26 of 52\n",
            "building tree 27 of 52\n",
            "building tree 28 of 52\n",
            "building tree 29 of 52\n",
            "building tree 30 of 52\n",
            "building tree 31 of 52\n",
            "building tree 32 of 52\n",
            "building tree 33 of 52\n",
            "building tree 34 of 52\n",
            "building tree 35 of 52\n",
            "building tree 36 of 52\n",
            "building tree 37 of 52\n",
            "building tree 38 of 52\n",
            "building tree 39 of 52\n",
            "building tree 40 of 52\n",
            "building tree 41 of 52\n",
            "building tree 42 of 52\n",
            "building tree 43 of 52\n",
            "building tree 44 of 52\n",
            "building tree 45 of 52\n",
            "building tree 46 of 52\n",
            "building tree 47 of 52\n",
            "building tree 48 of 52\n",
            "building tree 49 of 52\n",
            "building tree 50 of 52\n",
            "building tree 51 of 52\n",
            "building tree 52 of 52\n",
            "Using ThreadingBackend as joblib.Parallel backend instead of LokyBackend as the latter does not provide shared memory semantics.\n"
          ]
        },
        {
          "output_type": "stream",
          "name": "stderr",
          "text": [
            "[Parallel(n_jobs=1)]: Done  52 out of  52 | elapsed:    0.8s finished\n",
            "[Parallel(n_jobs=1)]: Using backend SequentialBackend with 1 concurrent workers.\n",
            "[Parallel(n_jobs=1)]: Done   1 out of   1 | elapsed:    0.0s remaining:    0.0s\n",
            "[Parallel(n_jobs=1)]: Done   2 out of   2 | elapsed:    0.0s remaining:    0.0s\n",
            "[Parallel(n_jobs=1)]: Done   3 out of   3 | elapsed:    0.0s remaining:    0.0s\n",
            "[Parallel(n_jobs=1)]: Done   4 out of   4 | elapsed:    0.0s remaining:    0.0s\n",
            "[Parallel(n_jobs=1)]: Done   5 out of   5 | elapsed:    0.0s remaining:    0.0s\n",
            "[Parallel(n_jobs=1)]: Done   6 out of   6 | elapsed:    0.0s remaining:    0.0s\n",
            "[Parallel(n_jobs=1)]: Done   7 out of   7 | elapsed:    0.0s remaining:    0.0s\n",
            "[Parallel(n_jobs=1)]: Done   8 out of   8 | elapsed:    0.0s remaining:    0.0s\n",
            "[Parallel(n_jobs=1)]: Done   9 out of   9 | elapsed:    0.0s remaining:    0.0s\n",
            "[Parallel(n_jobs=1)]: Done  10 out of  10 | elapsed:    0.0s remaining:    0.0s\n",
            "[Parallel(n_jobs=1)]: Done  11 out of  11 | elapsed:    0.0s remaining:    0.0s\n",
            "[Parallel(n_jobs=1)]: Done  12 out of  12 | elapsed:    0.0s remaining:    0.0s\n",
            "[Parallel(n_jobs=1)]: Done  13 out of  13 | elapsed:    0.0s remaining:    0.0s\n",
            "[Parallel(n_jobs=1)]: Done  14 out of  14 | elapsed:    0.0s remaining:    0.0s\n",
            "[Parallel(n_jobs=1)]: Done  52 out of  52 | elapsed:    0.0s finished\n",
            "[Parallel(n_jobs=1)]: Using backend SequentialBackend with 1 concurrent workers.\n",
            "[Parallel(n_jobs=1)]: Done   1 out of   1 | elapsed:    0.0s remaining:    0.0s\n",
            "[Parallel(n_jobs=1)]: Done   2 out of   2 | elapsed:    0.0s remaining:    0.0s\n",
            "[Parallel(n_jobs=1)]: Done   3 out of   3 | elapsed:    0.1s remaining:    0.0s\n",
            "[Parallel(n_jobs=1)]: Done   4 out of   4 | elapsed:    0.1s remaining:    0.0s\n",
            "[Parallel(n_jobs=1)]: Done   5 out of   5 | elapsed:    0.1s remaining:    0.0s\n",
            "[Parallel(n_jobs=1)]: Done   6 out of   6 | elapsed:    0.1s remaining:    0.0s\n"
          ]
        },
        {
          "output_type": "stream",
          "name": "stdout",
          "text": [
            "building tree 1 of 52\n",
            "building tree 2 of 52\n",
            "building tree 3 of 52\n",
            "building tree 4 of 52\n",
            "building tree 5 of 52\n",
            "building tree 6 of 52\n",
            "building tree 7 of 52\n",
            "building tree 8 of 52\n",
            "building tree 9 of 52\n",
            "building tree 10 of 52\n",
            "building tree 11 of 52\n"
          ]
        },
        {
          "output_type": "stream",
          "name": "stderr",
          "text": [
            "[Parallel(n_jobs=1)]: Done   7 out of   7 | elapsed:    0.1s remaining:    0.0s\n",
            "[Parallel(n_jobs=1)]: Done   8 out of   8 | elapsed:    0.2s remaining:    0.0s\n",
            "[Parallel(n_jobs=1)]: Done   9 out of   9 | elapsed:    0.2s remaining:    0.0s\n",
            "[Parallel(n_jobs=1)]: Done  10 out of  10 | elapsed:    0.2s remaining:    0.0s\n",
            "[Parallel(n_jobs=1)]: Done  11 out of  11 | elapsed:    0.2s remaining:    0.0s\n",
            "[Parallel(n_jobs=1)]: Done  12 out of  12 | elapsed:    0.2s remaining:    0.0s\n"
          ]
        },
        {
          "output_type": "stream",
          "name": "stdout",
          "text": [
            "building tree 12 of 52\n",
            "building tree 13 of 52\n",
            "building tree 14 of 52\n",
            "building tree 15 of 52\n",
            "building tree 16 of 52\n",
            "building tree 17 of 52\n",
            "building tree 18 of 52\n",
            "building tree 19 of 52\n",
            "building tree 20 of 52\n",
            "building tree 21 of 52\n",
            "building tree 22 of 52\n",
            "building tree 23 of 52\n",
            "building tree 24 of 52\n",
            "building tree 25 of 52\n",
            "building tree 26 of 52\n",
            "building tree 27 of 52\n",
            "building tree 28 of 52\n",
            "building tree 29 of 52\n",
            "building tree 30 of 52\n",
            "building tree 31 of 52\n",
            "building tree 32 of 52\n",
            "building tree 33 of 52\n",
            "building tree 34 of 52\n",
            "building tree 35 of 52\n",
            "building tree 36 of 52\n",
            "building tree 37 of 52\n",
            "building tree 38 of 52\n",
            "building tree 39 of 52\n",
            "building tree 40 of 52\n",
            "building tree 41 of 52\n",
            "building tree 42 of 52\n",
            "building tree 43 of 52\n",
            "building tree 44 of 52\n",
            "building tree 45 of 52\n",
            "building tree 46 of 52\n",
            "building tree 47 of 52\n",
            "building tree 48 of 52\n",
            "building tree 49 of 52\n",
            "building tree 50 of 52\n",
            "building tree 51 of 52\n",
            "building tree 52 of 52\n",
            "Using ThreadingBackend as joblib.Parallel backend instead of LokyBackend as the latter does not provide shared memory semantics.\n",
            "building tree 1 of 52\n",
            "building tree 2 of 52\n"
          ]
        },
        {
          "output_type": "stream",
          "name": "stderr",
          "text": [
            "[Parallel(n_jobs=1)]: Done  52 out of  52 | elapsed:    1.0s finished\n",
            "[Parallel(n_jobs=1)]: Using backend SequentialBackend with 1 concurrent workers.\n",
            "[Parallel(n_jobs=1)]: Done   1 out of   1 | elapsed:    0.0s remaining:    0.0s\n",
            "[Parallel(n_jobs=1)]: Done   2 out of   2 | elapsed:    0.0s remaining:    0.0s\n",
            "[Parallel(n_jobs=1)]: Done   3 out of   3 | elapsed:    0.0s remaining:    0.0s\n",
            "[Parallel(n_jobs=1)]: Done   4 out of   4 | elapsed:    0.0s remaining:    0.0s\n",
            "[Parallel(n_jobs=1)]: Done   5 out of   5 | elapsed:    0.0s remaining:    0.0s\n",
            "[Parallel(n_jobs=1)]: Done   6 out of   6 | elapsed:    0.0s remaining:    0.0s\n",
            "[Parallel(n_jobs=1)]: Done   7 out of   7 | elapsed:    0.0s remaining:    0.0s\n",
            "[Parallel(n_jobs=1)]: Done   8 out of   8 | elapsed:    0.0s remaining:    0.0s\n",
            "[Parallel(n_jobs=1)]: Done   9 out of   9 | elapsed:    0.0s remaining:    0.0s\n",
            "[Parallel(n_jobs=1)]: Done  10 out of  10 | elapsed:    0.0s remaining:    0.0s\n",
            "[Parallel(n_jobs=1)]: Done  11 out of  11 | elapsed:    0.0s remaining:    0.0s\n",
            "[Parallel(n_jobs=1)]: Done  12 out of  12 | elapsed:    0.0s remaining:    0.0s\n",
            "[Parallel(n_jobs=1)]: Done  52 out of  52 | elapsed:    0.0s finished\n",
            "[Parallel(n_jobs=1)]: Using backend SequentialBackend with 1 concurrent workers.\n",
            "[Parallel(n_jobs=1)]: Done   1 out of   1 | elapsed:    0.0s remaining:    0.0s\n",
            "[Parallel(n_jobs=1)]: Done   2 out of   2 | elapsed:    0.0s remaining:    0.0s\n",
            "[Parallel(n_jobs=1)]: Done   3 out of   3 | elapsed:    0.1s remaining:    0.0s\n",
            "[Parallel(n_jobs=1)]: Done   4 out of   4 | elapsed:    0.1s remaining:    0.0s\n",
            "[Parallel(n_jobs=1)]: Done   5 out of   5 | elapsed:    0.1s remaining:    0.0s\n",
            "[Parallel(n_jobs=1)]: Done   6 out of   6 | elapsed:    0.1s remaining:    0.0s\n",
            "[Parallel(n_jobs=1)]: Done   7 out of   7 | elapsed:    0.1s remaining:    0.0s\n"
          ]
        },
        {
          "output_type": "stream",
          "name": "stdout",
          "text": [
            "building tree 3 of 52\n",
            "building tree 4 of 52\n",
            "building tree 5 of 52\n",
            "building tree 6 of 52\n",
            "building tree 7 of 52\n",
            "building tree 8 of 52\n",
            "building tree 9 of 52\n",
            "building tree 10 of 52\n",
            "building tree 11 of 52\n",
            "building tree 12 of 52\n",
            "building tree 13 of 52\n"
          ]
        },
        {
          "output_type": "stream",
          "name": "stderr",
          "text": [
            "[Parallel(n_jobs=1)]: Done   8 out of   8 | elapsed:    0.2s remaining:    0.0s\n",
            "[Parallel(n_jobs=1)]: Done   9 out of   9 | elapsed:    0.2s remaining:    0.0s\n",
            "[Parallel(n_jobs=1)]: Done  10 out of  10 | elapsed:    0.2s remaining:    0.0s\n",
            "[Parallel(n_jobs=1)]: Done  11 out of  11 | elapsed:    0.2s remaining:    0.0s\n",
            "[Parallel(n_jobs=1)]: Done  12 out of  12 | elapsed:    0.2s remaining:    0.0s\n"
          ]
        },
        {
          "output_type": "stream",
          "name": "stdout",
          "text": [
            "building tree 14 of 52\n",
            "building tree 15 of 52\n",
            "building tree 16 of 52\n",
            "building tree 17 of 52\n",
            "building tree 18 of 52\n",
            "building tree 19 of 52\n",
            "building tree 20 of 52\n",
            "building tree 21 of 52\n",
            "building tree 22 of 52\n",
            "building tree 23 of 52\n",
            "building tree 24 of 52\n",
            "building tree 25 of 52\n",
            "building tree 26 of 52\n",
            "building tree 27 of 52\n",
            "building tree 28 of 52\n",
            "building tree 29 of 52\n",
            "building tree 30 of 52\n",
            "building tree 31 of 52\n",
            "building tree 32 of 52\n",
            "building tree 33 of 52\n",
            "building tree 34 of 52\n",
            "building tree 35 of 52\n",
            "building tree 36 of 52\n",
            "building tree 37 of 52\n",
            "building tree 38 of 52\n",
            "building tree 39 of 52\n",
            "building tree 40 of 52\n",
            "building tree 41 of 52\n",
            "building tree 42 of 52\n",
            "building tree 43 of 52\n",
            "building tree 44 of 52\n",
            "building tree 45 of 52\n",
            "building tree 46 of 52\n",
            "building tree 47 of 52\n",
            "building tree 48 of 52\n",
            "building tree 49 of 52\n",
            "building tree 50 of 52\n",
            "building tree 51 of 52\n",
            "building tree 52 of 52\n",
            "Using ThreadingBackend as joblib.Parallel backend instead of LokyBackend as the latter does not provide shared memory semantics.\n",
            "building tree 1 of 52\n",
            "building tree 2 of 52\n",
            "building tree 3 of 52\n",
            "building tree 4 of 52\n"
          ]
        },
        {
          "output_type": "stream",
          "name": "stderr",
          "text": [
            "[Parallel(n_jobs=1)]: Done  52 out of  52 | elapsed:    1.0s finished\n",
            "[Parallel(n_jobs=1)]: Using backend SequentialBackend with 1 concurrent workers.\n",
            "[Parallel(n_jobs=1)]: Done   1 out of   1 | elapsed:    0.0s remaining:    0.0s\n",
            "[Parallel(n_jobs=1)]: Done   2 out of   2 | elapsed:    0.0s remaining:    0.0s\n",
            "[Parallel(n_jobs=1)]: Done   3 out of   3 | elapsed:    0.0s remaining:    0.0s\n",
            "[Parallel(n_jobs=1)]: Done   4 out of   4 | elapsed:    0.0s remaining:    0.0s\n",
            "[Parallel(n_jobs=1)]: Done   5 out of   5 | elapsed:    0.0s remaining:    0.0s\n",
            "[Parallel(n_jobs=1)]: Done   6 out of   6 | elapsed:    0.0s remaining:    0.0s\n",
            "[Parallel(n_jobs=1)]: Done   7 out of   7 | elapsed:    0.0s remaining:    0.0s\n",
            "[Parallel(n_jobs=1)]: Done   8 out of   8 | elapsed:    0.0s remaining:    0.0s\n",
            "[Parallel(n_jobs=1)]: Done   9 out of   9 | elapsed:    0.0s remaining:    0.0s\n",
            "[Parallel(n_jobs=1)]: Done  10 out of  10 | elapsed:    0.0s remaining:    0.0s\n",
            "[Parallel(n_jobs=1)]: Done  11 out of  11 | elapsed:    0.0s remaining:    0.0s\n",
            "[Parallel(n_jobs=1)]: Done  12 out of  12 | elapsed:    0.0s remaining:    0.0s\n",
            "[Parallel(n_jobs=1)]: Done  52 out of  52 | elapsed:    0.0s finished\n",
            "[Parallel(n_jobs=1)]: Using backend SequentialBackend with 1 concurrent workers.\n",
            "[Parallel(n_jobs=1)]: Done   1 out of   1 | elapsed:    0.0s remaining:    0.0s\n",
            "[Parallel(n_jobs=1)]: Done   2 out of   2 | elapsed:    0.0s remaining:    0.0s\n",
            "[Parallel(n_jobs=1)]: Done   3 out of   3 | elapsed:    0.1s remaining:    0.0s\n",
            "[Parallel(n_jobs=1)]: Done   4 out of   4 | elapsed:    0.1s remaining:    0.0s\n",
            "[Parallel(n_jobs=1)]: Done   5 out of   5 | elapsed:    0.1s remaining:    0.0s\n",
            "[Parallel(n_jobs=1)]: Done   6 out of   6 | elapsed:    0.1s remaining:    0.0s\n",
            "[Parallel(n_jobs=1)]: Done   7 out of   7 | elapsed:    0.1s remaining:    0.0s\n"
          ]
        },
        {
          "output_type": "stream",
          "name": "stdout",
          "text": [
            "building tree 5 of 52\n",
            "building tree 6 of 52\n",
            "building tree 7 of 52\n",
            "building tree 8 of 52\n",
            "building tree 9 of 52\n",
            "building tree 10 of 52\n",
            "building tree 11 of 52\n",
            "building tree 12 of 52\n",
            "building tree 13 of 52\n",
            "building tree 14 of 52\n",
            "building tree 15 of 52\n"
          ]
        },
        {
          "output_type": "stream",
          "name": "stderr",
          "text": [
            "[Parallel(n_jobs=1)]: Done   8 out of   8 | elapsed:    0.2s remaining:    0.0s\n",
            "[Parallel(n_jobs=1)]: Done   9 out of   9 | elapsed:    0.2s remaining:    0.0s\n",
            "[Parallel(n_jobs=1)]: Done  10 out of  10 | elapsed:    0.2s remaining:    0.0s\n",
            "[Parallel(n_jobs=1)]: Done  11 out of  11 | elapsed:    0.2s remaining:    0.0s\n",
            "[Parallel(n_jobs=1)]: Done  12 out of  12 | elapsed:    0.2s remaining:    0.0s\n"
          ]
        },
        {
          "output_type": "stream",
          "name": "stdout",
          "text": [
            "building tree 16 of 52\n",
            "building tree 17 of 52\n",
            "building tree 18 of 52\n",
            "building tree 19 of 52\n",
            "building tree 20 of 52\n",
            "building tree 21 of 52\n",
            "building tree 22 of 52\n",
            "building tree 23 of 52\n",
            "building tree 24 of 52\n",
            "building tree 25 of 52\n",
            "building tree 26 of 52\n",
            "building tree 27 of 52\n",
            "building tree 28 of 52\n",
            "building tree 29 of 52\n",
            "building tree 30 of 52\n",
            "building tree 31 of 52\n",
            "building tree 32 of 52\n",
            "building tree 33 of 52\n",
            "building tree 34 of 52\n",
            "building tree 35 of 52\n",
            "building tree 36 of 52\n",
            "building tree 37 of 52\n",
            "building tree 38 of 52\n",
            "building tree 39 of 52\n",
            "building tree 40 of 52\n",
            "building tree 41 of 52\n",
            "building tree 42 of 52\n",
            "building tree 43 of 52\n",
            "building tree 44 of 52\n",
            "building tree 45 of 52\n",
            "building tree 46 of 52\n",
            "building tree 47 of 52\n",
            "building tree 48 of 52\n",
            "building tree 49 of 52\n",
            "building tree 50 of 52\n",
            "building tree 51 of 52\n",
            "building tree 52 of 52\n",
            "Using ThreadingBackend as joblib.Parallel backend instead of LokyBackend as the latter does not provide shared memory semantics.\n",
            "building tree 1 of 52\n",
            "building tree 2 of 52\n",
            "building tree 3 of 52\n",
            "building tree 4 of 52\n",
            "building tree 5 of 52\n",
            "building tree 6 of 52\n"
          ]
        },
        {
          "output_type": "stream",
          "name": "stderr",
          "text": [
            "[Parallel(n_jobs=1)]: Done  52 out of  52 | elapsed:    1.0s finished\n",
            "[Parallel(n_jobs=1)]: Using backend SequentialBackend with 1 concurrent workers.\n",
            "[Parallel(n_jobs=1)]: Done   1 out of   1 | elapsed:    0.0s remaining:    0.0s\n",
            "[Parallel(n_jobs=1)]: Done   2 out of   2 | elapsed:    0.0s remaining:    0.0s\n",
            "[Parallel(n_jobs=1)]: Done   3 out of   3 | elapsed:    0.0s remaining:    0.0s\n",
            "[Parallel(n_jobs=1)]: Done   4 out of   4 | elapsed:    0.0s remaining:    0.0s\n",
            "[Parallel(n_jobs=1)]: Done   5 out of   5 | elapsed:    0.0s remaining:    0.0s\n",
            "[Parallel(n_jobs=1)]: Done   6 out of   6 | elapsed:    0.0s remaining:    0.0s\n",
            "[Parallel(n_jobs=1)]: Done   7 out of   7 | elapsed:    0.0s remaining:    0.0s\n",
            "[Parallel(n_jobs=1)]: Done   8 out of   8 | elapsed:    0.0s remaining:    0.0s\n",
            "[Parallel(n_jobs=1)]: Done   9 out of   9 | elapsed:    0.0s remaining:    0.0s\n",
            "[Parallel(n_jobs=1)]: Done  10 out of  10 | elapsed:    0.0s remaining:    0.0s\n",
            "[Parallel(n_jobs=1)]: Done  11 out of  11 | elapsed:    0.0s remaining:    0.0s\n",
            "[Parallel(n_jobs=1)]: Done  12 out of  12 | elapsed:    0.0s remaining:    0.0s\n",
            "[Parallel(n_jobs=1)]: Done  52 out of  52 | elapsed:    0.0s finished\n",
            "[Parallel(n_jobs=1)]: Using backend SequentialBackend with 1 concurrent workers.\n",
            "[Parallel(n_jobs=1)]: Done   1 out of   1 | elapsed:    0.0s remaining:    0.0s\n",
            "[Parallel(n_jobs=1)]: Done   2 out of   2 | elapsed:    0.0s remaining:    0.0s\n",
            "[Parallel(n_jobs=1)]: Done   3 out of   3 | elapsed:    0.1s remaining:    0.0s\n",
            "[Parallel(n_jobs=1)]: Done   4 out of   4 | elapsed:    0.1s remaining:    0.0s\n",
            "[Parallel(n_jobs=1)]: Done   5 out of   5 | elapsed:    0.1s remaining:    0.0s\n",
            "[Parallel(n_jobs=1)]: Done   6 out of   6 | elapsed:    0.1s remaining:    0.0s\n",
            "[Parallel(n_jobs=1)]: Done   7 out of   7 | elapsed:    0.1s remaining:    0.0s\n"
          ]
        },
        {
          "output_type": "stream",
          "name": "stdout",
          "text": [
            "building tree 7 of 52\n",
            "building tree 8 of 52\n",
            "building tree 9 of 52\n",
            "building tree 10 of 52\n",
            "building tree 11 of 52\n",
            "building tree 12 of 52\n",
            "building tree 13 of 52\n",
            "building tree 14 of 52\n",
            "building tree 15 of 52\n",
            "building tree 16 of 52\n",
            "building tree 17 of 52\n"
          ]
        },
        {
          "output_type": "stream",
          "name": "stderr",
          "text": [
            "[Parallel(n_jobs=1)]: Done   8 out of   8 | elapsed:    0.2s remaining:    0.0s\n",
            "[Parallel(n_jobs=1)]: Done   9 out of   9 | elapsed:    0.2s remaining:    0.0s\n",
            "[Parallel(n_jobs=1)]: Done  10 out of  10 | elapsed:    0.2s remaining:    0.0s\n",
            "[Parallel(n_jobs=1)]: Done  11 out of  11 | elapsed:    0.2s remaining:    0.0s\n",
            "[Parallel(n_jobs=1)]: Done  12 out of  12 | elapsed:    0.2s remaining:    0.0s\n"
          ]
        },
        {
          "output_type": "stream",
          "name": "stdout",
          "text": [
            "building tree 18 of 52\n",
            "building tree 19 of 52\n",
            "building tree 20 of 52\n",
            "building tree 21 of 52\n",
            "building tree 22 of 52\n",
            "building tree 23 of 52\n",
            "building tree 24 of 52\n",
            "building tree 25 of 52\n",
            "building tree 26 of 52\n",
            "building tree 27 of 52\n",
            "building tree 28 of 52\n",
            "building tree 29 of 52\n",
            "building tree 30 of 52\n",
            "building tree 31 of 52\n",
            "building tree 32 of 52\n",
            "building tree 33 of 52\n",
            "building tree 34 of 52\n",
            "building tree 35 of 52\n",
            "building tree 36 of 52\n",
            "building tree 37 of 52\n",
            "building tree 38 of 52\n",
            "building tree 39 of 52\n",
            "building tree 40 of 52\n",
            "building tree 41 of 52\n",
            "building tree 42 of 52\n",
            "building tree 43 of 52\n",
            "building tree 44 of 52\n",
            "building tree 45 of 52\n",
            "building tree 46 of 52\n",
            "building tree 47 of 52\n",
            "building tree 48 of 52\n",
            "building tree 49 of 52\n",
            "building tree 50 of 52\n",
            "building tree 51 of 52\n",
            "building tree 52 of 52\n",
            "Using ThreadingBackend as joblib.Parallel backend instead of LokyBackend as the latter does not provide shared memory semantics.\n"
          ]
        },
        {
          "output_type": "stream",
          "name": "stderr",
          "text": [
            "[Parallel(n_jobs=1)]: Done  52 out of  52 | elapsed:    1.0s finished\n",
            "[Parallel(n_jobs=1)]: Using backend SequentialBackend with 1 concurrent workers.\n",
            "[Parallel(n_jobs=1)]: Done   1 out of   1 | elapsed:    0.0s remaining:    0.0s\n",
            "[Parallel(n_jobs=1)]: Done   2 out of   2 | elapsed:    0.0s remaining:    0.0s\n",
            "[Parallel(n_jobs=1)]: Done   3 out of   3 | elapsed:    0.0s remaining:    0.0s\n",
            "[Parallel(n_jobs=1)]: Done   4 out of   4 | elapsed:    0.0s remaining:    0.0s\n",
            "[Parallel(n_jobs=1)]: Done   5 out of   5 | elapsed:    0.0s remaining:    0.0s\n",
            "[Parallel(n_jobs=1)]: Done   6 out of   6 | elapsed:    0.0s remaining:    0.0s\n",
            "[Parallel(n_jobs=1)]: Done   7 out of   7 | elapsed:    0.0s remaining:    0.0s\n",
            "[Parallel(n_jobs=1)]: Done   8 out of   8 | elapsed:    0.0s remaining:    0.0s\n",
            "[Parallel(n_jobs=1)]: Done   9 out of   9 | elapsed:    0.0s remaining:    0.0s\n",
            "[Parallel(n_jobs=1)]: Done  10 out of  10 | elapsed:    0.0s remaining:    0.0s\n",
            "[Parallel(n_jobs=1)]: Done  11 out of  11 | elapsed:    0.0s remaining:    0.0s\n",
            "[Parallel(n_jobs=1)]: Done  12 out of  12 | elapsed:    0.0s remaining:    0.0s\n",
            "[Parallel(n_jobs=1)]: Done  52 out of  52 | elapsed:    0.0s finished\n",
            "[Parallel(n_jobs=1)]: Using backend SequentialBackend with 1 concurrent workers.\n",
            "[Parallel(n_jobs=1)]: Done   1 out of   1 | elapsed:    0.0s remaining:    0.0s\n",
            "[Parallel(n_jobs=1)]: Done   2 out of   2 | elapsed:    0.0s remaining:    0.0s\n",
            "[Parallel(n_jobs=1)]: Done   3 out of   3 | elapsed:    0.1s remaining:    0.0s\n",
            "[Parallel(n_jobs=1)]: Done   4 out of   4 | elapsed:    0.1s remaining:    0.0s\n",
            "[Parallel(n_jobs=1)]: Done   5 out of   5 | elapsed:    0.1s remaining:    0.0s\n",
            "[Parallel(n_jobs=1)]: Done   6 out of   6 | elapsed:    0.1s remaining:    0.0s\n",
            "[Parallel(n_jobs=1)]: Done   7 out of   7 | elapsed:    0.1s remaining:    0.0s\n"
          ]
        },
        {
          "output_type": "stream",
          "name": "stdout",
          "text": [
            "building tree 1 of 52\n",
            "building tree 2 of 52\n",
            "building tree 3 of 52\n",
            "building tree 4 of 52\n",
            "building tree 5 of 52\n",
            "building tree 6 of 52\n",
            "building tree 7 of 52\n",
            "building tree 8 of 52\n",
            "building tree 9 of 52\n",
            "building tree 10 of 52\n",
            "building tree 11 of 52\n"
          ]
        },
        {
          "output_type": "stream",
          "name": "stderr",
          "text": [
            "[Parallel(n_jobs=1)]: Done   8 out of   8 | elapsed:    0.1s remaining:    0.0s\n",
            "[Parallel(n_jobs=1)]: Done   9 out of   9 | elapsed:    0.2s remaining:    0.0s\n",
            "[Parallel(n_jobs=1)]: Done  10 out of  10 | elapsed:    0.2s remaining:    0.0s\n",
            "[Parallel(n_jobs=1)]: Done  11 out of  11 | elapsed:    0.2s remaining:    0.0s\n",
            "[Parallel(n_jobs=1)]: Done  12 out of  12 | elapsed:    0.2s remaining:    0.0s\n"
          ]
        },
        {
          "output_type": "stream",
          "name": "stdout",
          "text": [
            "building tree 12 of 52\n",
            "building tree 13 of 52\n",
            "building tree 14 of 52\n",
            "building tree 15 of 52\n",
            "building tree 16 of 52\n",
            "building tree 17 of 52\n",
            "building tree 18 of 52\n",
            "building tree 19 of 52\n",
            "building tree 20 of 52\n",
            "building tree 21 of 52\n",
            "building tree 22 of 52\n",
            "building tree 23 of 52\n",
            "building tree 24 of 52\n",
            "building tree 25 of 52\n",
            "building tree 26 of 52\n",
            "building tree 27 of 52\n",
            "building tree 28 of 52\n",
            "building tree 29 of 52\n",
            "building tree 30 of 52\n",
            "building tree 31 of 52\n",
            "building tree 32 of 52\n",
            "building tree 33 of 52\n",
            "building tree 34 of 52\n",
            "building tree 35 of 52\n",
            "building tree 36 of 52\n",
            "building tree 37 of 52\n",
            "building tree 38 of 52\n",
            "building tree 39 of 52\n",
            "building tree 40 of 52\n",
            "building tree 41 of 52\n",
            "building tree 42 of 52\n",
            "building tree 43 of 52\n",
            "building tree 44 of 52\n",
            "building tree 45 of 52\n",
            "building tree 46 of 52\n",
            "building tree 47 of 52\n",
            "building tree 48 of 52\n",
            "building tree 49 of 52\n",
            "building tree 50 of 52\n",
            "building tree 51 of 52\n",
            "building tree 52 of 52\n",
            "Using ThreadingBackend as joblib.Parallel backend instead of LokyBackend as the latter does not provide shared memory semantics.\n",
            "building tree 1 of 52\n"
          ]
        },
        {
          "output_type": "stream",
          "name": "stderr",
          "text": [
            "[Parallel(n_jobs=1)]: Done  52 out of  52 | elapsed:    1.0s finished\n",
            "[Parallel(n_jobs=1)]: Using backend SequentialBackend with 1 concurrent workers.\n",
            "[Parallel(n_jobs=1)]: Done   1 out of   1 | elapsed:    0.0s remaining:    0.0s\n",
            "[Parallel(n_jobs=1)]: Done   2 out of   2 | elapsed:    0.0s remaining:    0.0s\n",
            "[Parallel(n_jobs=1)]: Done   3 out of   3 | elapsed:    0.0s remaining:    0.0s\n",
            "[Parallel(n_jobs=1)]: Done   4 out of   4 | elapsed:    0.0s remaining:    0.0s\n",
            "[Parallel(n_jobs=1)]: Done   5 out of   5 | elapsed:    0.0s remaining:    0.0s\n",
            "[Parallel(n_jobs=1)]: Done   6 out of   6 | elapsed:    0.0s remaining:    0.0s\n",
            "[Parallel(n_jobs=1)]: Done   7 out of   7 | elapsed:    0.0s remaining:    0.0s\n",
            "[Parallel(n_jobs=1)]: Done   8 out of   8 | elapsed:    0.0s remaining:    0.0s\n",
            "[Parallel(n_jobs=1)]: Done   9 out of   9 | elapsed:    0.0s remaining:    0.0s\n",
            "[Parallel(n_jobs=1)]: Done  10 out of  10 | elapsed:    0.0s remaining:    0.0s\n",
            "[Parallel(n_jobs=1)]: Done  11 out of  11 | elapsed:    0.0s remaining:    0.0s\n",
            "[Parallel(n_jobs=1)]: Done  12 out of  12 | elapsed:    0.0s remaining:    0.0s\n",
            "[Parallel(n_jobs=1)]: Done  52 out of  52 | elapsed:    0.0s finished\n",
            "[Parallel(n_jobs=1)]: Using backend SequentialBackend with 1 concurrent workers.\n",
            "[Parallel(n_jobs=1)]: Done   1 out of   1 | elapsed:    0.0s remaining:    0.0s\n",
            "[Parallel(n_jobs=1)]: Done   2 out of   2 | elapsed:    0.0s remaining:    0.0s\n",
            "[Parallel(n_jobs=1)]: Done   3 out of   3 | elapsed:    0.1s remaining:    0.0s\n",
            "[Parallel(n_jobs=1)]: Done   4 out of   4 | elapsed:    0.1s remaining:    0.0s\n",
            "[Parallel(n_jobs=1)]: Done   5 out of   5 | elapsed:    0.1s remaining:    0.0s\n"
          ]
        },
        {
          "output_type": "stream",
          "name": "stdout",
          "text": [
            "building tree 2 of 52\n",
            "building tree 3 of 52\n",
            "building tree 4 of 52\n",
            "building tree 5 of 52\n",
            "building tree 6 of 52\n",
            "building tree 7 of 52\n",
            "building tree 8 of 52\n",
            "building tree 9 of 52\n",
            "building tree 10 of 52\n",
            "building tree 11 of 52\n"
          ]
        },
        {
          "output_type": "stream",
          "name": "stderr",
          "text": [
            "[Parallel(n_jobs=1)]: Done   6 out of   6 | elapsed:    0.1s remaining:    0.0s\n",
            "[Parallel(n_jobs=1)]: Done   7 out of   7 | elapsed:    0.2s remaining:    0.0s\n",
            "[Parallel(n_jobs=1)]: Done   8 out of   8 | elapsed:    0.2s remaining:    0.0s\n",
            "[Parallel(n_jobs=1)]: Done   9 out of   9 | elapsed:    0.2s remaining:    0.0s\n",
            "[Parallel(n_jobs=1)]: Done  10 out of  10 | elapsed:    0.2s remaining:    0.0s\n",
            "[Parallel(n_jobs=1)]: Done  11 out of  11 | elapsed:    0.3s remaining:    0.0s\n",
            "[Parallel(n_jobs=1)]: Done  12 out of  12 | elapsed:    0.3s remaining:    0.0s\n"
          ]
        },
        {
          "output_type": "stream",
          "name": "stdout",
          "text": [
            "building tree 12 of 52\n",
            "building tree 13 of 52\n",
            "building tree 14 of 52\n",
            "building tree 15 of 52\n",
            "building tree 16 of 52\n",
            "building tree 17 of 52\n",
            "building tree 18 of 52\n",
            "building tree 19 of 52\n",
            "building tree 20 of 52\n",
            "building tree 21 of 52\n",
            "building tree 22 of 52\n",
            "building tree 23 of 52\n",
            "building tree 24 of 52\n",
            "building tree 25 of 52\n",
            "building tree 26 of 52\n",
            "building tree 27 of 52\n",
            "building tree 28 of 52\n",
            "building tree 29 of 52\n",
            "building tree 30 of 52\n",
            "building tree 31 of 52\n",
            "building tree 32 of 52\n",
            "building tree 33 of 52\n",
            "building tree 34 of 52\n",
            "building tree 35 of 52\n",
            "building tree 36 of 52\n",
            "building tree 37 of 52\n",
            "building tree 38 of 52\n",
            "building tree 39 of 52\n",
            "building tree 40 of 52\n",
            "building tree 41 of 52\n",
            "building tree 42 of 52\n",
            "building tree 43 of 52\n",
            "building tree 44 of 52\n",
            "building tree 45 of 52\n",
            "building tree 46 of 52\n",
            "building tree 47 of 52\n",
            "building tree 48 of 52\n",
            "building tree 49 of 52\n",
            "building tree 50 of 52\n",
            "building tree 51 of 52\n",
            "building tree 52 of 52\n"
          ]
        },
        {
          "output_type": "stream",
          "name": "stderr",
          "text": [
            "[Parallel(n_jobs=1)]: Done  52 out of  52 | elapsed:    1.2s finished\n"
          ]
        },
        {
          "output_type": "execute_result",
          "data": {
            "text/plain": [
              "RandomizedSearchCV(cv=KFold(n_splits=5, random_state=5, shuffle=True),\n",
              "                   estimator=RandomForestClassifier(), n_iter=2,\n",
              "                   param_distributions={'bootstrap': [True, False],\n",
              "                                        'class_weight': ['balanced',\n",
              "                                                         'balanced_subsample'],\n",
              "                                        'criterion': ['gini', 'entropy',\n",
              "                                                      'log_loss'],\n",
              "                                        'max_depth': [10, 19, 28, 37, 46, 55,\n",
              "                                                      64, 73, 82, 91, 100,\n",
              "                                                      None],\n",
              "                                        'max_features': ['sqrt', 'log2', None],\n",
              "                                        'min_samples_leaf': [1, 2, 4],\n",
              "                                        'min_samples_split': [2, 5, 10],\n",
              "                                        'n_estimators': [10, 14, 19, 24, 28, 33,\n",
              "                                                         38, 43, 47, 52, 57, 62,\n",
              "                                                         66, 71, 76, 81, 85, 90,\n",
              "                                                         95, 100],\n",
              "                                        'verbose': [0, 2, 4, 6, 8, 11, 13, 15,\n",
              "                                                    17, 20]})"
            ]
          },
          "metadata": {},
          "execution_count": 73
        }
      ]
    },
    {
      "cell_type": "code",
      "source": [
        "evaluate(rf_tune)"
      ],
      "metadata": {
        "colab": {
          "base_uri": "https://localhost:8080/",
          "height": 867
        },
        "id": "zYR69lAFGvZr",
        "outputId": "8788b5dc-902f-4348-ba5b-3fc250d2a7ce"
      },
      "execution_count": null,
      "outputs": [
        {
          "output_type": "stream",
          "name": "stderr",
          "text": [
            "[Parallel(n_jobs=1)]: Using backend SequentialBackend with 1 concurrent workers.\n",
            "[Parallel(n_jobs=1)]: Done   1 out of   1 | elapsed:    0.0s remaining:    0.0s\n",
            "[Parallel(n_jobs=1)]: Done   2 out of   2 | elapsed:    0.0s remaining:    0.0s\n",
            "[Parallel(n_jobs=1)]: Done   3 out of   3 | elapsed:    0.0s remaining:    0.0s\n",
            "[Parallel(n_jobs=1)]: Done   4 out of   4 | elapsed:    0.0s remaining:    0.0s\n",
            "[Parallel(n_jobs=1)]: Done   5 out of   5 | elapsed:    0.0s remaining:    0.0s\n",
            "[Parallel(n_jobs=1)]: Done   6 out of   6 | elapsed:    0.0s remaining:    0.0s\n",
            "[Parallel(n_jobs=1)]: Done   7 out of   7 | elapsed:    0.0s remaining:    0.0s\n",
            "[Parallel(n_jobs=1)]: Done   8 out of   8 | elapsed:    0.0s remaining:    0.0s\n",
            "[Parallel(n_jobs=1)]: Done   9 out of   9 | elapsed:    0.0s remaining:    0.0s\n",
            "[Parallel(n_jobs=1)]: Done  10 out of  10 | elapsed:    0.0s remaining:    0.0s\n",
            "[Parallel(n_jobs=1)]: Done  11 out of  11 | elapsed:    0.0s remaining:    0.0s\n",
            "[Parallel(n_jobs=1)]: Done  12 out of  12 | elapsed:    0.0s remaining:    0.0s\n",
            "[Parallel(n_jobs=1)]: Done  52 out of  52 | elapsed:    0.0s finished\n",
            "[Parallel(n_jobs=1)]: Using backend SequentialBackend with 1 concurrent workers.\n",
            "[Parallel(n_jobs=1)]: Done   1 out of   1 | elapsed:    0.0s remaining:    0.0s\n",
            "[Parallel(n_jobs=1)]: Done   2 out of   2 | elapsed:    0.0s remaining:    0.0s\n",
            "[Parallel(n_jobs=1)]: Done   3 out of   3 | elapsed:    0.0s remaining:    0.0s\n",
            "[Parallel(n_jobs=1)]: Done   4 out of   4 | elapsed:    0.0s remaining:    0.0s\n",
            "[Parallel(n_jobs=1)]: Done   5 out of   5 | elapsed:    0.0s remaining:    0.0s\n",
            "[Parallel(n_jobs=1)]: Done   6 out of   6 | elapsed:    0.0s remaining:    0.0s\n",
            "[Parallel(n_jobs=1)]: Done   7 out of   7 | elapsed:    0.0s remaining:    0.0s\n",
            "[Parallel(n_jobs=1)]: Done   8 out of   8 | elapsed:    0.0s remaining:    0.0s\n",
            "[Parallel(n_jobs=1)]: Done   9 out of   9 | elapsed:    0.0s remaining:    0.0s\n",
            "[Parallel(n_jobs=1)]: Done  10 out of  10 | elapsed:    0.0s remaining:    0.0s\n",
            "[Parallel(n_jobs=1)]: Done  11 out of  11 | elapsed:    0.0s remaining:    0.0s\n",
            "[Parallel(n_jobs=1)]: Done  12 out of  12 | elapsed:    0.0s remaining:    0.0s\n",
            "[Parallel(n_jobs=1)]: Done  52 out of  52 | elapsed:    0.0s finished\n"
          ]
        },
        {
          "output_type": "stream",
          "name": "stdout",
          "text": [
            "The accuracy score of the RandomizedSearchCV is 84%\n",
            "\n",
            "The F1 score of the RandomizedSearchCV is 83%\n",
            "\n",
            "\n"
          ]
        },
        {
          "output_type": "display_data",
          "data": {
            "text/plain": [
              "<Figure size 432x288 with 2 Axes>"
            ],
            "image/png": "[encoded data removed]"
          },
          "metadata": {
            "needs_background": "light"
          }
        }
      ]
    },
    {
      "cell_type": "markdown",
      "source": [
        "- There was no improvement after parameter tuning. "
      ],
      "metadata": {
        "id": "TC6yqEoVHE53"
      }
    },
    {
      "cell_type": "code",
      "execution_count": null,
      "metadata": {
        "colab": {
          "base_uri": "https://localhost:8080/"
        },
        "id": "Irt1RfunAL5p",
        "outputId": "9bbd28d5-506d-4f95-e276-c287a0e80f77"
      },
      "outputs": [
        {
          "data": {
            "text/plain": [
              "['model.joblib']"
            ]
          },
          "execution_count": 70,
          "metadata": {},
          "output_type": "execute_result"
        }
      ],
      "source": [
        "#Saving/exporting the model\n",
        "dump(rf, \"model.joblib\")"
      ]
    },
    {
      "cell_type": "markdown",
      "metadata": {
        "id": "JdRug4giqJzX"
      },
      "source": [
        "\n",
        "------\n",
        "------"
      ]
    }
  ],
  "metadata": {
    "colab": {
      "collapsed_sections": [],
      "provenance": [],
      "mount_file_id": "1p5oK_LxtCTt4XFUjhHfUSEepD_VhDClo",
      "authorship_tag": "ABX9TyPgMAF6n/CmyJK2xKu7+Stm"
    },
    "kernelspec": {
      "display_name": "Python 3",
      "name": "python3"
    },
    "language_info": {
      "name": "python"
    }
  },
  "nbformat": 4,
  "nbformat_minor": 0
}